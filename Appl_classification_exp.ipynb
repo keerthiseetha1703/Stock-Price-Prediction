{
 "cells": [
  {
   "cell_type": "markdown",
   "metadata": {},
   "source": [
    "# SVM Classifier "
   ]
  },
  {
   "cell_type": "markdown",
   "metadata": {},
   "source": [
    "This classifier will help in predicting if the stock price will go up(predicts 1) or not(predicts 0)"
   ]
  },
  {
   "cell_type": "markdown",
   "metadata": {},
   "source": [
    "# Experiment 1: Predicting stock price movement using market watch articles for APPL"
   ]
  },
  {
   "cell_type": "code",
   "execution_count": 5,
   "metadata": {},
   "outputs": [
    {
     "data": {
      "text/html": [
       "<div>\n",
       "<style scoped>\n",
       "    .dataframe tbody tr th:only-of-type {\n",
       "        vertical-align: middle;\n",
       "    }\n",
       "\n",
       "    .dataframe tbody tr th {\n",
       "        vertical-align: top;\n",
       "    }\n",
       "\n",
       "    .dataframe thead th {\n",
       "        text-align: right;\n",
       "    }\n",
       "</style>\n",
       "<table border=\"1\" class=\"dataframe\">\n",
       "  <thead>\n",
       "    <tr style=\"text-align: right;\">\n",
       "      <th></th>\n",
       "      <th>date</th>\n",
       "      <th>fulltext_sents</th>\n",
       "      <th>lemm_sents</th>\n",
       "    </tr>\n",
       "  </thead>\n",
       "  <tbody>\n",
       "    <tr>\n",
       "      <th>0</th>\n",
       "      <td>2016-10-19</td>\n",
       "      <td>0.9433</td>\n",
       "      <td>0.96285</td>\n",
       "    </tr>\n",
       "    <tr>\n",
       "      <th>1</th>\n",
       "      <td>2016-10-25</td>\n",
       "      <td>0.7783</td>\n",
       "      <td>0.75060</td>\n",
       "    </tr>\n",
       "    <tr>\n",
       "      <th>2</th>\n",
       "      <td>2016-10-28</td>\n",
       "      <td>0.9937</td>\n",
       "      <td>0.98580</td>\n",
       "    </tr>\n",
       "    <tr>\n",
       "      <th>3</th>\n",
       "      <td>2016-10-31</td>\n",
       "      <td>0.9647</td>\n",
       "      <td>0.90940</td>\n",
       "    </tr>\n",
       "    <tr>\n",
       "      <th>4</th>\n",
       "      <td>2016-11-03</td>\n",
       "      <td>0.9942</td>\n",
       "      <td>0.98540</td>\n",
       "    </tr>\n",
       "  </tbody>\n",
       "</table>\n",
       "</div>"
      ],
      "text/plain": [
       "         date  fulltext_sents  lemm_sents\n",
       "0  2016-10-19          0.9433     0.96285\n",
       "1  2016-10-25          0.7783     0.75060\n",
       "2  2016-10-28          0.9937     0.98580\n",
       "3  2016-10-31          0.9647     0.90940\n",
       "4  2016-11-03          0.9942     0.98540"
      ]
     },
     "execution_count": 5,
     "metadata": {},
     "output_type": "execute_result"
    }
   ],
   "source": [
    "import pandas as pd\n",
    "#Reading apple market watch file into dataframe\n",
    "mw_pkl = pd.read_pickle('processed_data/day_apl_mw.pkl')\n",
    "mw_pkl_df=pd.DataFrame(mw_pkl)\n",
    "mw_pkl_df.head()"
   ]
  },
  {
   "cell_type": "code",
   "execution_count": 6,
   "metadata": {},
   "outputs": [
    {
     "data": {
      "text/html": [
       "<div>\n",
       "<style scoped>\n",
       "    .dataframe tbody tr th:only-of-type {\n",
       "        vertical-align: middle;\n",
       "    }\n",
       "\n",
       "    .dataframe tbody tr th {\n",
       "        vertical-align: top;\n",
       "    }\n",
       "\n",
       "    .dataframe thead th {\n",
       "        text-align: right;\n",
       "    }\n",
       "</style>\n",
       "<table border=\"1\" class=\"dataframe\">\n",
       "  <thead>\n",
       "    <tr style=\"text-align: right;\">\n",
       "      <th></th>\n",
       "      <th>date</th>\n",
       "      <th>open</th>\n",
       "      <th>close</th>\n",
       "      <th>NextClose</th>\n",
       "      <th>Label</th>\n",
       "    </tr>\n",
       "  </thead>\n",
       "  <tbody>\n",
       "    <tr>\n",
       "      <th>0</th>\n",
       "      <td>2015-12-01</td>\n",
       "      <td>118.126000</td>\n",
       "      <td>118.020633</td>\n",
       "      <td>117.126244</td>\n",
       "      <td>0</td>\n",
       "    </tr>\n",
       "    <tr>\n",
       "      <th>1</th>\n",
       "      <td>2015-12-02</td>\n",
       "      <td>117.190625</td>\n",
       "      <td>117.126244</td>\n",
       "      <td>115.999981</td>\n",
       "      <td>0</td>\n",
       "    </tr>\n",
       "    <tr>\n",
       "      <th>2</th>\n",
       "      <td>2015-12-03</td>\n",
       "      <td>116.072000</td>\n",
       "      <td>115.999981</td>\n",
       "      <td>117.537031</td>\n",
       "      <td>1</td>\n",
       "    </tr>\n",
       "    <tr>\n",
       "      <th>3</th>\n",
       "      <td>2015-12-04</td>\n",
       "      <td>117.310000</td>\n",
       "      <td>117.537031</td>\n",
       "      <td>119.050000</td>\n",
       "      <td>1</td>\n",
       "    </tr>\n",
       "    <tr>\n",
       "      <th>4</th>\n",
       "      <td>2015-12-05</td>\n",
       "      <td>119.050000</td>\n",
       "      <td>119.050000</td>\n",
       "      <td>118.674867</td>\n",
       "      <td>0</td>\n",
       "    </tr>\n",
       "  </tbody>\n",
       "</table>\n",
       "</div>"
      ],
      "text/plain": [
       "         date        open       close   NextClose  Label\n",
       "0  2015-12-01  118.126000  118.020633  117.126244      0\n",
       "1  2015-12-02  117.190625  117.126244  115.999981      0\n",
       "2  2015-12-03  116.072000  115.999981  117.537031      1\n",
       "3  2015-12-04  117.310000  117.537031  119.050000      1\n",
       "4  2015-12-05  119.050000  119.050000  118.674867      0"
      ]
     },
     "execution_count": 6,
     "metadata": {},
     "output_type": "execute_result"
    }
   ],
   "source": [
    "#Reading apple stock prices file into dataframe\n",
    "stock_pkl = pd.read_pickle('processed_data/day_a_stock_closelabel.pkl')\n",
    "stock_pkl_df=pd.DataFrame(stock_pkl)\n",
    "stock_pkl_df.head()"
   ]
  },
  {
   "cell_type": "code",
   "execution_count": 7,
   "metadata": {},
   "outputs": [],
   "source": [
    "#setting date as index for both dfs\n",
    "mw_pkl_df = mw_pkl_df.set_index(\"date\")\n",
    "stock_pkl_df = stock_pkl_df.set_index(\"date\")"
   ]
  },
  {
   "cell_type": "code",
   "execution_count": 8,
   "metadata": {},
   "outputs": [],
   "source": [
    "#merge dfs on indexes\n",
    "merge1=stock_pkl_df.merge(mw_pkl_df,how='inner',left_index=True,right_index=True)"
   ]
  },
  {
   "cell_type": "code",
   "execution_count": 9,
   "metadata": {},
   "outputs": [
    {
     "data": {
      "text/html": [
       "<div>\n",
       "<style scoped>\n",
       "    .dataframe tbody tr th:only-of-type {\n",
       "        vertical-align: middle;\n",
       "    }\n",
       "\n",
       "    .dataframe tbody tr th {\n",
       "        vertical-align: top;\n",
       "    }\n",
       "\n",
       "    .dataframe thead th {\n",
       "        text-align: right;\n",
       "    }\n",
       "</style>\n",
       "<table border=\"1\" class=\"dataframe\">\n",
       "  <thead>\n",
       "    <tr style=\"text-align: right;\">\n",
       "      <th></th>\n",
       "      <th>open</th>\n",
       "      <th>close</th>\n",
       "      <th>NextClose</th>\n",
       "      <th>Label</th>\n",
       "      <th>fulltext_sents</th>\n",
       "      <th>lemm_sents</th>\n",
       "    </tr>\n",
       "    <tr>\n",
       "      <th>date</th>\n",
       "      <th></th>\n",
       "      <th></th>\n",
       "      <th></th>\n",
       "      <th></th>\n",
       "      <th></th>\n",
       "      <th></th>\n",
       "    </tr>\n",
       "  </thead>\n",
       "  <tbody>\n",
       "    <tr>\n",
       "      <th>2016-10-19</th>\n",
       "      <td>117.295619</td>\n",
       "      <td>117.280281</td>\n",
       "      <td>117.039667</td>\n",
       "      <td>0</td>\n",
       "      <td>0.9433</td>\n",
       "      <td>0.96285</td>\n",
       "    </tr>\n",
       "    <tr>\n",
       "      <th>2016-10-25</th>\n",
       "      <td>117.430244</td>\n",
       "      <td>117.239794</td>\n",
       "      <td>114.988125</td>\n",
       "      <td>0</td>\n",
       "      <td>0.7783</td>\n",
       "      <td>0.75060</td>\n",
       "    </tr>\n",
       "    <tr>\n",
       "      <th>2016-10-28</th>\n",
       "      <td>114.728444</td>\n",
       "      <td>114.704431</td>\n",
       "      <td>113.675256</td>\n",
       "      <td>0</td>\n",
       "      <td>0.9937</td>\n",
       "      <td>0.98580</td>\n",
       "    </tr>\n",
       "    <tr>\n",
       "      <th>2016-10-31</th>\n",
       "      <td>113.715194</td>\n",
       "      <td>113.675256</td>\n",
       "      <td>112.158214</td>\n",
       "      <td>0</td>\n",
       "      <td>0.9647</td>\n",
       "      <td>0.90940</td>\n",
       "    </tr>\n",
       "    <tr>\n",
       "      <th>2016-11-03</th>\n",
       "      <td>110.402925</td>\n",
       "      <td>110.345731</td>\n",
       "      <td>109.306719</td>\n",
       "      <td>0</td>\n",
       "      <td>0.9942</td>\n",
       "      <td>0.98540</td>\n",
       "    </tr>\n",
       "  </tbody>\n",
       "</table>\n",
       "</div>"
      ],
      "text/plain": [
       "                  open       close   NextClose  Label  fulltext_sents  \\\n",
       "date                                                                    \n",
       "2016-10-19  117.295619  117.280281  117.039667      0          0.9433   \n",
       "2016-10-25  117.430244  117.239794  114.988125      0          0.7783   \n",
       "2016-10-28  114.728444  114.704431  113.675256      0          0.9937   \n",
       "2016-10-31  113.715194  113.675256  112.158214      0          0.9647   \n",
       "2016-11-03  110.402925  110.345731  109.306719      0          0.9942   \n",
       "\n",
       "            lemm_sents  \n",
       "date                    \n",
       "2016-10-19     0.96285  \n",
       "2016-10-25     0.75060  \n",
       "2016-10-28     0.98580  \n",
       "2016-10-31     0.90940  \n",
       "2016-11-03     0.98540  "
      ]
     },
     "execution_count": 9,
     "metadata": {},
     "output_type": "execute_result"
    }
   ],
   "source": [
    "merge1.head()"
   ]
  },
  {
   "cell_type": "code",
   "execution_count": 11,
   "metadata": {},
   "outputs": [],
   "source": [
    "model_df=merge1[['open','close','NextClose','fulltext_sents','Label']] #leaving out lemmatized sentiment values"
   ]
  },
  {
   "cell_type": "code",
   "execution_count": 12,
   "metadata": {},
   "outputs": [
    {
     "data": {
      "text/html": [
       "<div>\n",
       "<style scoped>\n",
       "    .dataframe tbody tr th:only-of-type {\n",
       "        vertical-align: middle;\n",
       "    }\n",
       "\n",
       "    .dataframe tbody tr th {\n",
       "        vertical-align: top;\n",
       "    }\n",
       "\n",
       "    .dataframe thead th {\n",
       "        text-align: right;\n",
       "    }\n",
       "</style>\n",
       "<table border=\"1\" class=\"dataframe\">\n",
       "  <thead>\n",
       "    <tr style=\"text-align: right;\">\n",
       "      <th></th>\n",
       "      <th>open</th>\n",
       "      <th>close</th>\n",
       "      <th>NextClose</th>\n",
       "      <th>fulltext_sents</th>\n",
       "      <th>Label</th>\n",
       "    </tr>\n",
       "    <tr>\n",
       "      <th>date</th>\n",
       "      <th></th>\n",
       "      <th></th>\n",
       "      <th></th>\n",
       "      <th></th>\n",
       "      <th></th>\n",
       "    </tr>\n",
       "  </thead>\n",
       "  <tbody>\n",
       "    <tr>\n",
       "      <th>2016-10-19</th>\n",
       "      <td>117.295619</td>\n",
       "      <td>117.280281</td>\n",
       "      <td>117.039667</td>\n",
       "      <td>0.943300</td>\n",
       "      <td>0</td>\n",
       "    </tr>\n",
       "    <tr>\n",
       "      <th>2016-10-25</th>\n",
       "      <td>117.430244</td>\n",
       "      <td>117.239794</td>\n",
       "      <td>114.988125</td>\n",
       "      <td>0.778300</td>\n",
       "      <td>0</td>\n",
       "    </tr>\n",
       "    <tr>\n",
       "      <th>2016-10-28</th>\n",
       "      <td>114.728444</td>\n",
       "      <td>114.704431</td>\n",
       "      <td>113.675256</td>\n",
       "      <td>0.993700</td>\n",
       "      <td>0</td>\n",
       "    </tr>\n",
       "    <tr>\n",
       "      <th>2016-10-31</th>\n",
       "      <td>113.715194</td>\n",
       "      <td>113.675256</td>\n",
       "      <td>112.158214</td>\n",
       "      <td>0.964700</td>\n",
       "      <td>0</td>\n",
       "    </tr>\n",
       "    <tr>\n",
       "      <th>2016-11-03</th>\n",
       "      <td>110.402925</td>\n",
       "      <td>110.345731</td>\n",
       "      <td>109.306719</td>\n",
       "      <td>0.994200</td>\n",
       "      <td>0</td>\n",
       "    </tr>\n",
       "    <tr>\n",
       "      <th>...</th>\n",
       "      <td>...</td>\n",
       "      <td>...</td>\n",
       "      <td>...</td>\n",
       "      <td>...</td>\n",
       "      <td>...</td>\n",
       "    </tr>\n",
       "    <tr>\n",
       "      <th>2022-02-14</th>\n",
       "      <td>167.892667</td>\n",
       "      <td>167.973000</td>\n",
       "      <td>171.489119</td>\n",
       "      <td>0.432367</td>\n",
       "      <td>1</td>\n",
       "    </tr>\n",
       "    <tr>\n",
       "      <th>2022-02-15</th>\n",
       "      <td>171.308750</td>\n",
       "      <td>171.489119</td>\n",
       "      <td>171.880944</td>\n",
       "      <td>0.946000</td>\n",
       "      <td>1</td>\n",
       "    </tr>\n",
       "    <tr>\n",
       "      <th>2022-02-16</th>\n",
       "      <td>171.949138</td>\n",
       "      <td>171.880944</td>\n",
       "      <td>170.643169</td>\n",
       "      <td>0.754800</td>\n",
       "      <td>0</td>\n",
       "    </tr>\n",
       "    <tr>\n",
       "      <th>2022-02-17</th>\n",
       "      <td>170.820925</td>\n",
       "      <td>170.643169</td>\n",
       "      <td>168.272506</td>\n",
       "      <td>0.809250</td>\n",
       "      <td>0</td>\n",
       "    </tr>\n",
       "    <tr>\n",
       "      <th>2022-02-18</th>\n",
       "      <td>168.486250</td>\n",
       "      <td>168.272506</td>\n",
       "      <td>166.500000</td>\n",
       "      <td>0.227375</td>\n",
       "      <td>0</td>\n",
       "    </tr>\n",
       "  </tbody>\n",
       "</table>\n",
       "<p>526 rows × 5 columns</p>\n",
       "</div>"
      ],
      "text/plain": [
       "                  open       close   NextClose  fulltext_sents  Label\n",
       "date                                                                 \n",
       "2016-10-19  117.295619  117.280281  117.039667        0.943300      0\n",
       "2016-10-25  117.430244  117.239794  114.988125        0.778300      0\n",
       "2016-10-28  114.728444  114.704431  113.675256        0.993700      0\n",
       "2016-10-31  113.715194  113.675256  112.158214        0.964700      0\n",
       "2016-11-03  110.402925  110.345731  109.306719        0.994200      0\n",
       "...                ...         ...         ...             ...    ...\n",
       "2022-02-14  167.892667  167.973000  171.489119        0.432367      1\n",
       "2022-02-15  171.308750  171.489119  171.880944        0.946000      1\n",
       "2022-02-16  171.949138  171.880944  170.643169        0.754800      0\n",
       "2022-02-17  170.820925  170.643169  168.272506        0.809250      0\n",
       "2022-02-18  168.486250  168.272506  166.500000        0.227375      0\n",
       "\n",
       "[526 rows x 5 columns]"
      ]
     },
     "execution_count": 12,
     "metadata": {},
     "output_type": "execute_result"
    }
   ],
   "source": [
    "model_df"
   ]
  },
  {
   "cell_type": "markdown",
   "metadata": {},
   "source": [
    "Splitting data into feature matrix and target column (X and y)"
   ]
  },
  {
   "cell_type": "code",
   "execution_count": 14,
   "metadata": {},
   "outputs": [
    {
     "name": "stderr",
     "output_type": "stream",
     "text": [
      "/Users/keerthiseetha/villanova/anaconda3/lib/python3.7/site-packages/ipykernel_launcher.py:4: FutureWarning: In a future version of pandas all arguments of DataFrame.drop except for the argument 'labels' will be keyword-only\n",
      "  after removing the cwd from sys.path.\n"
     ]
    }
   ],
   "source": [
    "import numpy as np\n",
    "X=model_df\n",
    "#drop label since it is the target value\n",
    "X=np.array(X.drop(['Label'],1))\n",
    "\n",
    "y=np.array(model_df['Label'])"
   ]
  },
  {
   "cell_type": "markdown",
   "metadata": {},
   "source": [
    "Setting split to 70:30 train:test\n"
   ]
  },
  {
   "cell_type": "code",
   "execution_count": 17,
   "metadata": {},
   "outputs": [],
   "source": [
    "split_value=int(0.7*len(model_df))"
   ]
  },
  {
   "cell_type": "code",
   "execution_count": 18,
   "metadata": {},
   "outputs": [],
   "source": [
    "X_train = X[0:split_value]\n",
    "y_train = y[0:split_value]\n",
    "\n",
    "X_test = X[split_value:]\n",
    "y_test = y[split_value:]"
   ]
  },
  {
   "cell_type": "markdown",
   "metadata": {},
   "source": [
    "Check the sizes of the df to confirm split"
   ]
  },
  {
   "cell_type": "code",
   "execution_count": 20,
   "metadata": {},
   "outputs": [
    {
     "data": {
      "text/plain": [
       "((368, 4), (158, 4), (368,), (158,), (526, 5))"
      ]
     },
     "execution_count": 20,
     "metadata": {},
     "output_type": "execute_result"
    }
   ],
   "source": [
    "X_train.shape,X_test.shape,y_train.shape,y_test.shape,model_df.shape"
   ]
  },
  {
   "cell_type": "markdown",
   "metadata": {},
   "source": [
    "Feature Scaling to make sure that the feature values are all on one scale of having a mean of 0 and variance of 1"
   ]
  },
  {
   "cell_type": "code",
   "execution_count": 22,
   "metadata": {},
   "outputs": [],
   "source": [
    "from sklearn.preprocessing import scale\n",
    "X_train=scale(X_train)\n",
    "X_test=scale(X_test)"
   ]
  },
  {
   "cell_type": "markdown",
   "metadata": {},
   "source": [
    "# SVM Classifier"
   ]
  },
  {
   "cell_type": "code",
   "execution_count": 23,
   "metadata": {},
   "outputs": [],
   "source": [
    "from sklearn.svm import SVC\n",
    "model=SVC().fit(X_train,y_train)\n",
    "pred=model.predict(X_test)"
   ]
  },
  {
   "cell_type": "code",
   "execution_count": 28,
   "metadata": {},
   "outputs": [
    {
     "data": {
      "text/plain": [
       "0.5759493670886076"
      ]
     },
     "execution_count": 28,
     "metadata": {},
     "output_type": "execute_result"
    }
   ],
   "source": [
    "from sklearn.metrics import accuracy_score,plot_confusion_matrix\n",
    "accuracy_score(y_test, pred)"
   ]
  },
  {
   "cell_type": "code",
   "execution_count": 44,
   "metadata": {},
   "outputs": [
    {
     "data": {
      "image/png": "[encoded data removed]",
      "text/plain": [
       "<Figure size 432x288 with 2 Axes>"
      ]
     },
     "metadata": {
      "needs_background": "light"
     },
     "output_type": "display_data"
    }
   ],
   "source": [
    "plot_confusion_matrix(model, X_test, y_test)  \n",
    "plt.show()"
   ]
  },
  {
   "cell_type": "code",
   "execution_count": 114,
   "metadata": {},
   "outputs": [
    {
     "name": "stdout",
     "output_type": "stream",
     "text": [
      "                     precision    recall  f1-score   support\n",
      "\n",
      "      PriceDecrease       0.27      0.59      0.37        34\n",
      "PriceIncreaseOrStay       0.84      0.57      0.68       124\n",
      "\n",
      "           accuracy                           0.58       158\n",
      "          macro avg       0.55      0.58      0.53       158\n",
      "       weighted avg       0.71      0.58      0.61       158\n",
      "\n"
     ]
    }
   ],
   "source": [
    "print(classification_report(pred,y_test,target_names=['PriceDecrease','PriceIncreaseOrStay']))"
   ]
  },
  {
   "cell_type": "markdown",
   "metadata": {},
   "source": [
    "# Exp 2: Predicting stock price movement using Motley Fool articles for APPL"
   ]
  },
  {
   "cell_type": "code",
   "execution_count": 34,
   "metadata": {},
   "outputs": [],
   "source": [
    "mf_pkl = pd.read_pickle('processed_data/day_apl_mf.pkl')\n",
    "mf_pkl_df=pd.DataFrame(mf_pkl)"
   ]
  },
  {
   "cell_type": "code",
   "execution_count": 35,
   "metadata": {},
   "outputs": [],
   "source": [
    "mf_pkl_df = mf_pkl_df.set_index(\"date\")"
   ]
  },
  {
   "cell_type": "code",
   "execution_count": 36,
   "metadata": {},
   "outputs": [],
   "source": [
    "merge2=stock_pkl_df.merge(mf_pkl_df,how='inner',left_index=True,right_index=True)"
   ]
  },
  {
   "cell_type": "code",
   "execution_count": 37,
   "metadata": {},
   "outputs": [
    {
     "data": {
      "text/html": [
       "<div>\n",
       "<style scoped>\n",
       "    .dataframe tbody tr th:only-of-type {\n",
       "        vertical-align: middle;\n",
       "    }\n",
       "\n",
       "    .dataframe tbody tr th {\n",
       "        vertical-align: top;\n",
       "    }\n",
       "\n",
       "    .dataframe thead th {\n",
       "        text-align: right;\n",
       "    }\n",
       "</style>\n",
       "<table border=\"1\" class=\"dataframe\">\n",
       "  <thead>\n",
       "    <tr style=\"text-align: right;\">\n",
       "      <th></th>\n",
       "      <th>open</th>\n",
       "      <th>close</th>\n",
       "      <th>NextClose</th>\n",
       "      <th>Label</th>\n",
       "      <th>fulltext_sents</th>\n",
       "      <th>lemm_sents</th>\n",
       "    </tr>\n",
       "    <tr>\n",
       "      <th>date</th>\n",
       "      <th></th>\n",
       "      <th></th>\n",
       "      <th></th>\n",
       "      <th></th>\n",
       "      <th></th>\n",
       "      <th></th>\n",
       "    </tr>\n",
       "  </thead>\n",
       "  <tbody>\n",
       "    <tr>\n",
       "      <th>2018-07-23</th>\n",
       "      <td>191.086429</td>\n",
       "      <td>191.173957</td>\n",
       "      <td>192.678750</td>\n",
       "      <td>1</td>\n",
       "      <td>0.99670</td>\n",
       "      <td>0.998100</td>\n",
       "    </tr>\n",
       "    <tr>\n",
       "      <th>2018-07-25</th>\n",
       "      <td>193.375714</td>\n",
       "      <td>193.338214</td>\n",
       "      <td>194.304062</td>\n",
       "      <td>1</td>\n",
       "      <td>0.95575</td>\n",
       "      <td>0.955200</td>\n",
       "    </tr>\n",
       "    <tr>\n",
       "      <th>2018-07-30</th>\n",
       "      <td>190.402500</td>\n",
       "      <td>190.373488</td>\n",
       "      <td>192.200537</td>\n",
       "      <td>1</td>\n",
       "      <td>0.49945</td>\n",
       "      <td>0.499000</td>\n",
       "    </tr>\n",
       "    <tr>\n",
       "      <th>2018-07-31</th>\n",
       "      <td>191.716875</td>\n",
       "      <td>192.200537</td>\n",
       "      <td>199.803475</td>\n",
       "      <td>1</td>\n",
       "      <td>0.99960</td>\n",
       "      <td>0.999400</td>\n",
       "    </tr>\n",
       "    <tr>\n",
       "      <th>2018-08-01</th>\n",
       "      <td>199.436625</td>\n",
       "      <td>199.803475</td>\n",
       "      <td>204.729806</td>\n",
       "      <td>1</td>\n",
       "      <td>0.71965</td>\n",
       "      <td>0.721317</td>\n",
       "    </tr>\n",
       "    <tr>\n",
       "      <th>...</th>\n",
       "      <td>...</td>\n",
       "      <td>...</td>\n",
       "      <td>...</td>\n",
       "      <td>...</td>\n",
       "      <td>...</td>\n",
       "      <td>...</td>\n",
       "    </tr>\n",
       "    <tr>\n",
       "      <th>2022-02-12</th>\n",
       "      <td>168.360000</td>\n",
       "      <td>168.200000</td>\n",
       "      <td>167.973000</td>\n",
       "      <td>0</td>\n",
       "      <td>0.99870</td>\n",
       "      <td>0.999000</td>\n",
       "    </tr>\n",
       "    <tr>\n",
       "      <th>2022-02-14</th>\n",
       "      <td>167.892667</td>\n",
       "      <td>167.973000</td>\n",
       "      <td>171.489119</td>\n",
       "      <td>1</td>\n",
       "      <td>0.49960</td>\n",
       "      <td>0.499400</td>\n",
       "    </tr>\n",
       "    <tr>\n",
       "      <th>2022-02-15</th>\n",
       "      <td>171.308750</td>\n",
       "      <td>171.489119</td>\n",
       "      <td>171.880944</td>\n",
       "      <td>1</td>\n",
       "      <td>0.00545</td>\n",
       "      <td>0.005400</td>\n",
       "    </tr>\n",
       "    <tr>\n",
       "      <th>2022-02-17</th>\n",
       "      <td>170.820925</td>\n",
       "      <td>170.643169</td>\n",
       "      <td>168.272506</td>\n",
       "      <td>0</td>\n",
       "      <td>0.99740</td>\n",
       "      <td>0.997600</td>\n",
       "    </tr>\n",
       "    <tr>\n",
       "      <th>2022-02-18</th>\n",
       "      <td>168.486250</td>\n",
       "      <td>168.272506</td>\n",
       "      <td>166.500000</td>\n",
       "      <td>0</td>\n",
       "      <td>0.99880</td>\n",
       "      <td>0.997500</td>\n",
       "    </tr>\n",
       "  </tbody>\n",
       "</table>\n",
       "<p>817 rows × 6 columns</p>\n",
       "</div>"
      ],
      "text/plain": [
       "                  open       close   NextClose  Label  fulltext_sents  \\\n",
       "date                                                                    \n",
       "2018-07-23  191.086429  191.173957  192.678750      1         0.99670   \n",
       "2018-07-25  193.375714  193.338214  194.304062      1         0.95575   \n",
       "2018-07-30  190.402500  190.373488  192.200537      1         0.49945   \n",
       "2018-07-31  191.716875  192.200537  199.803475      1         0.99960   \n",
       "2018-08-01  199.436625  199.803475  204.729806      1         0.71965   \n",
       "...                ...         ...         ...    ...             ...   \n",
       "2022-02-12  168.360000  168.200000  167.973000      0         0.99870   \n",
       "2022-02-14  167.892667  167.973000  171.489119      1         0.49960   \n",
       "2022-02-15  171.308750  171.489119  171.880944      1         0.00545   \n",
       "2022-02-17  170.820925  170.643169  168.272506      0         0.99740   \n",
       "2022-02-18  168.486250  168.272506  166.500000      0         0.99880   \n",
       "\n",
       "            lemm_sents  \n",
       "date                    \n",
       "2018-07-23    0.998100  \n",
       "2018-07-25    0.955200  \n",
       "2018-07-30    0.499000  \n",
       "2018-07-31    0.999400  \n",
       "2018-08-01    0.721317  \n",
       "...                ...  \n",
       "2022-02-12    0.999000  \n",
       "2022-02-14    0.499400  \n",
       "2022-02-15    0.005400  \n",
       "2022-02-17    0.997600  \n",
       "2022-02-18    0.997500  \n",
       "\n",
       "[817 rows x 6 columns]"
      ]
     },
     "execution_count": 37,
     "metadata": {},
     "output_type": "execute_result"
    }
   ],
   "source": [
    "merge2"
   ]
  },
  {
   "cell_type": "code",
   "execution_count": 38,
   "metadata": {},
   "outputs": [
    {
     "name": "stderr",
     "output_type": "stream",
     "text": [
      "/Users/keerthiseetha/villanova/anaconda3/lib/python3.7/site-packages/ipykernel_launcher.py:3: FutureWarning: In a future version of pandas all arguments of DataFrame.drop except for the argument 'labels' will be keyword-only\n",
      "  This is separate from the ipykernel package so we can avoid doing imports until\n"
     ]
    }
   ],
   "source": [
    "X_mf=merge2\n",
    "#drop label since it is the target value\n",
    "X_mf=np.array(X_mf.drop(['Label'],1))\n",
    "\n",
    "y_mf=np.array(merge2['Label'])"
   ]
  },
  {
   "cell_type": "code",
   "execution_count": 39,
   "metadata": {},
   "outputs": [],
   "source": [
    "Xmf_train = X_mf[0:split_value]\n",
    "ymf_train = y_mf[0:split_value]\n",
    "\n",
    "Xmf_test = X_mf[split_value:]\n",
    "ymf_test = y_mf[split_value:]"
   ]
  },
  {
   "cell_type": "code",
   "execution_count": 40,
   "metadata": {},
   "outputs": [],
   "source": [
    "Xmf_train=scale(Xmf_train)\n",
    "Xmf_test=scale(Xmf_test)"
   ]
  },
  {
   "cell_type": "code",
   "execution_count": 42,
   "metadata": {},
   "outputs": [],
   "source": [
    "mf_model=SVC().fit(Xmf_train,ymf_train)\n",
    "mfpred=mf_model.predict(Xmf_test)"
   ]
  },
  {
   "cell_type": "code",
   "execution_count": 43,
   "metadata": {},
   "outputs": [
    {
     "data": {
      "text/plain": [
       "0.534521158129176"
      ]
     },
     "execution_count": 43,
     "metadata": {},
     "output_type": "execute_result"
    }
   ],
   "source": [
    "accuracy_score(ymf_test, mfpred)"
   ]
  },
  {
   "cell_type": "code",
   "execution_count": 115,
   "metadata": {},
   "outputs": [
    {
     "name": "stdout",
     "output_type": "stream",
     "text": [
      "                     precision    recall  f1-score   support\n",
      "\n",
      "      PriceDecrease       0.00      0.00      0.00         0\n",
      "PriceIncreaseOrStay       1.00      0.53      0.70       449\n",
      "\n",
      "           accuracy                           0.53       449\n",
      "          macro avg       0.50      0.27      0.35       449\n",
      "       weighted avg       1.00      0.53      0.70       449\n",
      "\n"
     ]
    },
    {
     "name": "stderr",
     "output_type": "stream",
     "text": [
      "/Users/keerthiseetha/villanova/anaconda3/lib/python3.7/site-packages/sklearn/metrics/_classification.py:1272: UndefinedMetricWarning: Recall and F-score are ill-defined and being set to 0.0 in labels with no true samples. Use `zero_division` parameter to control this behavior.\n",
      "  _warn_prf(average, modifier, msg_start, len(result))\n"
     ]
    }
   ],
   "source": [
    "print(classification_report(mfpred,ymf_test,target_names=['PriceDecrease','PriceIncreaseOrStay']))"
   ]
  },
  {
   "cell_type": "markdown",
   "metadata": {},
   "source": [
    "# Exp 3 : Combining Motley Fool and Market Watch sentiments"
   ]
  },
  {
   "cell_type": "code",
   "execution_count": 48,
   "metadata": {},
   "outputs": [],
   "source": [
    "mf_mw_df=model_df.join(mf_pkl_df,how='outer',lsuffix=\"_mw\",rsuffix=\"_mf\") "
   ]
  },
  {
   "cell_type": "code",
   "execution_count": 49,
   "metadata": {},
   "outputs": [
    {
     "data": {
      "text/html": [
       "<div>\n",
       "<style scoped>\n",
       "    .dataframe tbody tr th:only-of-type {\n",
       "        vertical-align: middle;\n",
       "    }\n",
       "\n",
       "    .dataframe tbody tr th {\n",
       "        vertical-align: top;\n",
       "    }\n",
       "\n",
       "    .dataframe thead th {\n",
       "        text-align: right;\n",
       "    }\n",
       "</style>\n",
       "<table border=\"1\" class=\"dataframe\">\n",
       "  <thead>\n",
       "    <tr style=\"text-align: right;\">\n",
       "      <th></th>\n",
       "      <th>open</th>\n",
       "      <th>close</th>\n",
       "      <th>NextClose</th>\n",
       "      <th>fulltext_sents_mw</th>\n",
       "      <th>Label</th>\n",
       "      <th>fulltext_sents_mf</th>\n",
       "      <th>lemm_sents</th>\n",
       "    </tr>\n",
       "    <tr>\n",
       "      <th>date</th>\n",
       "      <th></th>\n",
       "      <th></th>\n",
       "      <th></th>\n",
       "      <th></th>\n",
       "      <th></th>\n",
       "      <th></th>\n",
       "      <th></th>\n",
       "    </tr>\n",
       "  </thead>\n",
       "  <tbody>\n",
       "    <tr>\n",
       "      <th>2016-01-18</th>\n",
       "      <td>NaN</td>\n",
       "      <td>NaN</td>\n",
       "      <td>NaN</td>\n",
       "      <td>NaN</td>\n",
       "      <td>NaN</td>\n",
       "      <td>0.0</td>\n",
       "      <td>0.0</td>\n",
       "    </tr>\n",
       "    <tr>\n",
       "      <th>2016-10-19</th>\n",
       "      <td>117.295619</td>\n",
       "      <td>117.280281</td>\n",
       "      <td>117.039667</td>\n",
       "      <td>0.9433</td>\n",
       "      <td>0.0</td>\n",
       "      <td>NaN</td>\n",
       "      <td>NaN</td>\n",
       "    </tr>\n",
       "    <tr>\n",
       "      <th>2016-10-25</th>\n",
       "      <td>117.430244</td>\n",
       "      <td>117.239794</td>\n",
       "      <td>114.988125</td>\n",
       "      <td>0.7783</td>\n",
       "      <td>0.0</td>\n",
       "      <td>NaN</td>\n",
       "      <td>NaN</td>\n",
       "    </tr>\n",
       "    <tr>\n",
       "      <th>2016-10-28</th>\n",
       "      <td>114.728444</td>\n",
       "      <td>114.704431</td>\n",
       "      <td>113.675256</td>\n",
       "      <td>0.9937</td>\n",
       "      <td>0.0</td>\n",
       "      <td>NaN</td>\n",
       "      <td>NaN</td>\n",
       "    </tr>\n",
       "    <tr>\n",
       "      <th>2016-10-31</th>\n",
       "      <td>113.715194</td>\n",
       "      <td>113.675256</td>\n",
       "      <td>112.158214</td>\n",
       "      <td>0.9647</td>\n",
       "      <td>0.0</td>\n",
       "      <td>NaN</td>\n",
       "      <td>NaN</td>\n",
       "    </tr>\n",
       "  </tbody>\n",
       "</table>\n",
       "</div>"
      ],
      "text/plain": [
       "                  open       close   NextClose  fulltext_sents_mw  Label  \\\n",
       "date                                                                       \n",
       "2016-01-18         NaN         NaN         NaN                NaN    NaN   \n",
       "2016-10-19  117.295619  117.280281  117.039667             0.9433    0.0   \n",
       "2016-10-25  117.430244  117.239794  114.988125             0.7783    0.0   \n",
       "2016-10-28  114.728444  114.704431  113.675256             0.9937    0.0   \n",
       "2016-10-31  113.715194  113.675256  112.158214             0.9647    0.0   \n",
       "\n",
       "            fulltext_sents_mf  lemm_sents  \n",
       "date                                       \n",
       "2016-01-18                0.0         0.0  \n",
       "2016-10-19                NaN         NaN  \n",
       "2016-10-25                NaN         NaN  \n",
       "2016-10-28                NaN         NaN  \n",
       "2016-10-31                NaN         NaN  "
      ]
     },
     "execution_count": 49,
     "metadata": {},
     "output_type": "execute_result"
    }
   ],
   "source": [
    "mf_mw_df.head()"
   ]
  },
  {
   "cell_type": "code",
   "execution_count": 50,
   "metadata": {},
   "outputs": [
    {
     "data": {
      "text/plain": [
       "(1200, 7)"
      ]
     },
     "execution_count": 50,
     "metadata": {},
     "output_type": "execute_result"
    }
   ],
   "source": [
    "mf_mw_df.shape"
   ]
  },
  {
   "cell_type": "code",
   "execution_count": 54,
   "metadata": {},
   "outputs": [
    {
     "data": {
      "text/plain": [
       "open                 674\n",
       "close                674\n",
       "NextClose            674\n",
       "fulltext_sents_mw    674\n",
       "Label                674\n",
       "fulltext_sents_mf    174\n",
       "lemm_sents           174\n",
       "dtype: int64"
      ]
     },
     "execution_count": 54,
     "metadata": {},
     "output_type": "execute_result"
    }
   ],
   "source": [
    "mf_mw_df.isna().sum()"
   ]
  },
  {
   "cell_type": "code",
   "execution_count": 99,
   "metadata": {},
   "outputs": [],
   "source": [
    "c1_mw_mf=mf_mw_df.dropna(subset=['Label'])"
   ]
  },
  {
   "cell_type": "code",
   "execution_count": 100,
   "metadata": {},
   "outputs": [
    {
     "data": {
      "text/plain": [
       "((526, 7),\n",
       " open                   0\n",
       " close                  0\n",
       " NextClose              0\n",
       " fulltext_sents_mw      0\n",
       " Label                  0\n",
       " fulltext_sents_mf    174\n",
       " lemm_sents           174\n",
       " dtype: int64,\n",
       "                   open       close   NextClose  fulltext_sents_mw  Label  \\\n",
       " date                                                                       \n",
       " 2016-10-19  117.295619  117.280281  117.039667             0.9433    0.0   \n",
       " 2016-10-25  117.430244  117.239794  114.988125             0.7783    0.0   \n",
       " 2016-10-28  114.728444  114.704431  113.675256             0.9937    0.0   \n",
       " 2016-10-31  113.715194  113.675256  112.158214             0.9647    0.0   \n",
       " 2016-11-03  110.402925  110.345731  109.306719             0.9942    0.0   \n",
       " \n",
       "             fulltext_sents_mf  lemm_sents  \n",
       " date                                       \n",
       " 2016-10-19                NaN         NaN  \n",
       " 2016-10-25                NaN         NaN  \n",
       " 2016-10-28                NaN         NaN  \n",
       " 2016-10-31                NaN         NaN  \n",
       " 2016-11-03                NaN         NaN  )"
      ]
     },
     "execution_count": 100,
     "metadata": {},
     "output_type": "execute_result"
    }
   ],
   "source": [
    "c1_mw_mf.shape,c1_mw_mf.isna().sum(),c1_mw_mf.head()"
   ]
  },
  {
   "cell_type": "code",
   "execution_count": 101,
   "metadata": {},
   "outputs": [
    {
     "name": "stderr",
     "output_type": "stream",
     "text": [
      "/Users/keerthiseetha/villanova/anaconda3/lib/python3.7/site-packages/ipykernel_launcher.py:1: SettingWithCopyWarning: \n",
      "A value is trying to be set on a copy of a slice from a DataFrame.\n",
      "Try using .loc[row_indexer,col_indexer] = value instead\n",
      "\n",
      "See the caveats in the documentation: https://pandas.pydata.org/pandas-docs/stable/user_guide/indexing.html#returning-a-view-versus-a-copy\n",
      "  \"\"\"Entry point for launching an IPython kernel.\n"
     ]
    }
   ],
   "source": [
    "#Calculating average sentiments between MF and MW for each day\n",
    "c1_mw_mf['new_sent']=c1_mw_mf.iloc[:,[3,5,6]].mean(axis=1)\n",
    "\n",
    "# df['mean'] = df.iloc[:, [0,1,2,3,4].mean(axis=1)\n",
    "# Ref:https://stackoverflow.com/questions/33750326/compute-row-average-in-pandas"
   ]
  },
  {
   "cell_type": "code",
   "execution_count": 102,
   "metadata": {},
   "outputs": [
    {
     "data": {
      "text/html": [
       "<div>\n",
       "<style scoped>\n",
       "    .dataframe tbody tr th:only-of-type {\n",
       "        vertical-align: middle;\n",
       "    }\n",
       "\n",
       "    .dataframe tbody tr th {\n",
       "        vertical-align: top;\n",
       "    }\n",
       "\n",
       "    .dataframe thead th {\n",
       "        text-align: right;\n",
       "    }\n",
       "</style>\n",
       "<table border=\"1\" class=\"dataframe\">\n",
       "  <thead>\n",
       "    <tr style=\"text-align: right;\">\n",
       "      <th></th>\n",
       "      <th>open</th>\n",
       "      <th>close</th>\n",
       "      <th>NextClose</th>\n",
       "      <th>fulltext_sents_mw</th>\n",
       "      <th>Label</th>\n",
       "      <th>fulltext_sents_mf</th>\n",
       "      <th>lemm_sents</th>\n",
       "      <th>new_sent</th>\n",
       "    </tr>\n",
       "    <tr>\n",
       "      <th>date</th>\n",
       "      <th></th>\n",
       "      <th></th>\n",
       "      <th></th>\n",
       "      <th></th>\n",
       "      <th></th>\n",
       "      <th></th>\n",
       "      <th></th>\n",
       "      <th></th>\n",
       "    </tr>\n",
       "  </thead>\n",
       "  <tbody>\n",
       "    <tr>\n",
       "      <th>2016-10-19</th>\n",
       "      <td>117.295619</td>\n",
       "      <td>117.280281</td>\n",
       "      <td>117.039667</td>\n",
       "      <td>0.9433</td>\n",
       "      <td>0.0</td>\n",
       "      <td>NaN</td>\n",
       "      <td>NaN</td>\n",
       "      <td>0.9433</td>\n",
       "    </tr>\n",
       "    <tr>\n",
       "      <th>2016-10-25</th>\n",
       "      <td>117.430244</td>\n",
       "      <td>117.239794</td>\n",
       "      <td>114.988125</td>\n",
       "      <td>0.7783</td>\n",
       "      <td>0.0</td>\n",
       "      <td>NaN</td>\n",
       "      <td>NaN</td>\n",
       "      <td>0.7783</td>\n",
       "    </tr>\n",
       "    <tr>\n",
       "      <th>2016-10-28</th>\n",
       "      <td>114.728444</td>\n",
       "      <td>114.704431</td>\n",
       "      <td>113.675256</td>\n",
       "      <td>0.9937</td>\n",
       "      <td>0.0</td>\n",
       "      <td>NaN</td>\n",
       "      <td>NaN</td>\n",
       "      <td>0.9937</td>\n",
       "    </tr>\n",
       "    <tr>\n",
       "      <th>2016-10-31</th>\n",
       "      <td>113.715194</td>\n",
       "      <td>113.675256</td>\n",
       "      <td>112.158214</td>\n",
       "      <td>0.9647</td>\n",
       "      <td>0.0</td>\n",
       "      <td>NaN</td>\n",
       "      <td>NaN</td>\n",
       "      <td>0.9647</td>\n",
       "    </tr>\n",
       "    <tr>\n",
       "      <th>2016-11-03</th>\n",
       "      <td>110.402925</td>\n",
       "      <td>110.345731</td>\n",
       "      <td>109.306719</td>\n",
       "      <td>0.9942</td>\n",
       "      <td>0.0</td>\n",
       "      <td>NaN</td>\n",
       "      <td>NaN</td>\n",
       "      <td>0.9942</td>\n",
       "    </tr>\n",
       "  </tbody>\n",
       "</table>\n",
       "</div>"
      ],
      "text/plain": [
       "                  open       close   NextClose  fulltext_sents_mw  Label  \\\n",
       "date                                                                       \n",
       "2016-10-19  117.295619  117.280281  117.039667             0.9433    0.0   \n",
       "2016-10-25  117.430244  117.239794  114.988125             0.7783    0.0   \n",
       "2016-10-28  114.728444  114.704431  113.675256             0.9937    0.0   \n",
       "2016-10-31  113.715194  113.675256  112.158214             0.9647    0.0   \n",
       "2016-11-03  110.402925  110.345731  109.306719             0.9942    0.0   \n",
       "\n",
       "            fulltext_sents_mf  lemm_sents  new_sent  \n",
       "date                                                 \n",
       "2016-10-19                NaN         NaN    0.9433  \n",
       "2016-10-25                NaN         NaN    0.7783  \n",
       "2016-10-28                NaN         NaN    0.9937  \n",
       "2016-10-31                NaN         NaN    0.9647  \n",
       "2016-11-03                NaN         NaN    0.9942  "
      ]
     },
     "execution_count": 102,
     "metadata": {},
     "output_type": "execute_result"
    }
   ],
   "source": [
    "c1_mw_mf.head()"
   ]
  },
  {
   "cell_type": "code",
   "execution_count": 105,
   "metadata": {},
   "outputs": [
    {
     "data": {
      "text/plain": [
       "(526, 8)"
      ]
     },
     "execution_count": 105,
     "metadata": {},
     "output_type": "execute_result"
    }
   ],
   "source": [
    "c1_mw_mf.shape"
   ]
  },
  {
   "cell_type": "code",
   "execution_count": 108,
   "metadata": {},
   "outputs": [
    {
     "name": "stderr",
     "output_type": "stream",
     "text": [
      "/Users/keerthiseetha/villanova/anaconda3/lib/python3.7/site-packages/ipykernel_launcher.py:2: FutureWarning: In a future version of pandas all arguments of DataFrame.drop except for the argument 'labels' will be keyword-only\n",
      "  \n"
     ]
    },
    {
     "data": {
      "text/plain": [
       "((526, 4), (526,))"
      ]
     },
     "execution_count": 108,
     "metadata": {},
     "output_type": "execute_result"
    }
   ],
   "source": [
    "X_1=c1_mw_mf\n",
    "X_1=np.array(X_1.drop(['Label','fulltext_sents_mw','fulltext_sents_mf','lemm_sents'],1)) #dropping sents since they have Na's\n",
    "\n",
    "y_1=np.array(c1_mw_mf['Label'])\n",
    "\n",
    "X_1.shape,y_1.shape"
   ]
  },
  {
   "cell_type": "code",
   "execution_count": 109,
   "metadata": {},
   "outputs": [
    {
     "data": {
      "text/plain": [
       "((368, 4), (158, 4), (368,), (158,))"
      ]
     },
     "execution_count": 109,
     "metadata": {},
     "output_type": "execute_result"
    }
   ],
   "source": [
    "X1_train = X_1[0:split_value]\n",
    "y1_train = y_1[0:split_value]\n",
    "\n",
    "X1_test = X_1[split_value:]\n",
    "y1_test = y_1[split_value:]\n",
    "\n",
    "X1_train.shape,X1_test.shape,y1_train.shape,y1_test.shape"
   ]
  },
  {
   "cell_type": "code",
   "execution_count": 110,
   "metadata": {},
   "outputs": [],
   "source": [
    "#standardizing\n",
    "X1_train=scale(X1_train)\n",
    "X1_test=scale(X1_test)"
   ]
  },
  {
   "cell_type": "code",
   "execution_count": 111,
   "metadata": {},
   "outputs": [],
   "source": [
    "model_1=SVC().fit(X1_train,y1_train)\n",
    "pred_1=model_1.predict(X1_test)"
   ]
  },
  {
   "cell_type": "code",
   "execution_count": 112,
   "metadata": {},
   "outputs": [
    {
     "data": {
      "text/plain": [
       "0.5443037974683544"
      ]
     },
     "execution_count": 112,
     "metadata": {},
     "output_type": "execute_result"
    }
   ],
   "source": [
    "accuracy_score(y1_test, pred_1)"
   ]
  },
  {
   "cell_type": "code",
   "execution_count": 116,
   "metadata": {},
   "outputs": [
    {
     "name": "stdout",
     "output_type": "stream",
     "text": [
      "                     precision    recall  f1-score   support\n",
      "\n",
      "      PriceDecrease       0.03      0.67      0.05         3\n",
      "PriceIncreaseorStay       0.99      0.54      0.70       155\n",
      "\n",
      "           accuracy                           0.54       158\n",
      "          macro avg       0.51      0.60      0.38       158\n",
      "       weighted avg       0.97      0.54      0.69       158\n",
      "\n"
     ]
    }
   ],
   "source": [
    "print(classification_report(pred_1,y1_test,target_names=['PriceDecrease','PriceIncreaseorStay']))"
   ]
  },
  {
   "cell_type": "markdown",
   "metadata": {},
   "source": [
    "# Exp 4: Predicting stock movement using tweets related to APPL"
   ]
  },
  {
   "cell_type": "code",
   "execution_count": 26,
   "metadata": {},
   "outputs": [],
   "source": [
    "import pandas as pd\n",
    "tw_sent=pd.read_pickle('processed_data/day_apl_tw_sent.pkl')"
   ]
  },
  {
   "cell_type": "code",
   "execution_count": 27,
   "metadata": {},
   "outputs": [
    {
     "data": {
      "text/html": [
       "<div>\n",
       "<style scoped>\n",
       "    .dataframe tbody tr th:only-of-type {\n",
       "        vertical-align: middle;\n",
       "    }\n",
       "\n",
       "    .dataframe tbody tr th {\n",
       "        vertical-align: top;\n",
       "    }\n",
       "\n",
       "    .dataframe thead th {\n",
       "        text-align: right;\n",
       "    }\n",
       "</style>\n",
       "<table border=\"1\" class=\"dataframe\">\n",
       "  <thead>\n",
       "    <tr style=\"text-align: right;\">\n",
       "      <th></th>\n",
       "      <th>date</th>\n",
       "      <th>open</th>\n",
       "      <th>close</th>\n",
       "      <th>NextClose</th>\n",
       "      <th>Label</th>\n",
       "    </tr>\n",
       "  </thead>\n",
       "  <tbody>\n",
       "    <tr>\n",
       "      <th>0</th>\n",
       "      <td>2015-12-01</td>\n",
       "      <td>118.126000</td>\n",
       "      <td>118.020633</td>\n",
       "      <td>117.126244</td>\n",
       "      <td>0</td>\n",
       "    </tr>\n",
       "    <tr>\n",
       "      <th>1</th>\n",
       "      <td>2015-12-02</td>\n",
       "      <td>117.190625</td>\n",
       "      <td>117.126244</td>\n",
       "      <td>115.999981</td>\n",
       "      <td>0</td>\n",
       "    </tr>\n",
       "    <tr>\n",
       "      <th>2</th>\n",
       "      <td>2015-12-03</td>\n",
       "      <td>116.072000</td>\n",
       "      <td>115.999981</td>\n",
       "      <td>117.537031</td>\n",
       "      <td>1</td>\n",
       "    </tr>\n",
       "    <tr>\n",
       "      <th>3</th>\n",
       "      <td>2015-12-04</td>\n",
       "      <td>117.310000</td>\n",
       "      <td>117.537031</td>\n",
       "      <td>119.050000</td>\n",
       "      <td>1</td>\n",
       "    </tr>\n",
       "    <tr>\n",
       "      <th>4</th>\n",
       "      <td>2015-12-05</td>\n",
       "      <td>119.050000</td>\n",
       "      <td>119.050000</td>\n",
       "      <td>118.674867</td>\n",
       "      <td>0</td>\n",
       "    </tr>\n",
       "  </tbody>\n",
       "</table>\n",
       "</div>"
      ],
      "text/plain": [
       "         date        open       close   NextClose  Label\n",
       "0  2015-12-01  118.126000  118.020633  117.126244      0\n",
       "1  2015-12-02  117.190625  117.126244  115.999981      0\n",
       "2  2015-12-03  116.072000  115.999981  117.537031      1\n",
       "3  2015-12-04  117.310000  117.537031  119.050000      1\n",
       "4  2015-12-05  119.050000  119.050000  118.674867      0"
      ]
     },
     "execution_count": 27,
     "metadata": {},
     "output_type": "execute_result"
    }
   ],
   "source": [
    "#Reading apple stock prices file into dataframe\n",
    "stock_pkl = pd.read_pickle('processed_data/day_a_stock_closelabel.pkl')\n",
    "stock_pkl_df=pd.DataFrame(stock_pkl)\n",
    "stock_pkl_df.head()"
   ]
  },
  {
   "cell_type": "code",
   "execution_count": 28,
   "metadata": {},
   "outputs": [
    {
     "data": {
      "text/html": [
       "<div>\n",
       "<style scoped>\n",
       "    .dataframe tbody tr th:only-of-type {\n",
       "        vertical-align: middle;\n",
       "    }\n",
       "\n",
       "    .dataframe tbody tr th {\n",
       "        vertical-align: top;\n",
       "    }\n",
       "\n",
       "    .dataframe thead th {\n",
       "        text-align: right;\n",
       "    }\n",
       "</style>\n",
       "<table border=\"1\" class=\"dataframe\">\n",
       "  <thead>\n",
       "    <tr style=\"text-align: right;\">\n",
       "      <th></th>\n",
       "      <th>date</th>\n",
       "      <th>SentimentScore</th>\n",
       "    </tr>\n",
       "  </thead>\n",
       "  <tbody>\n",
       "    <tr>\n",
       "      <th>0</th>\n",
       "      <td>2017-01-01</td>\n",
       "      <td>0.109612</td>\n",
       "    </tr>\n",
       "    <tr>\n",
       "      <th>1</th>\n",
       "      <td>2017-01-02</td>\n",
       "      <td>0.118147</td>\n",
       "    </tr>\n",
       "    <tr>\n",
       "      <th>2</th>\n",
       "      <td>2017-01-03</td>\n",
       "      <td>0.097646</td>\n",
       "    </tr>\n",
       "    <tr>\n",
       "      <th>3</th>\n",
       "      <td>2017-01-04</td>\n",
       "      <td>0.088151</td>\n",
       "    </tr>\n",
       "    <tr>\n",
       "      <th>4</th>\n",
       "      <td>2017-01-05</td>\n",
       "      <td>0.084029</td>\n",
       "    </tr>\n",
       "  </tbody>\n",
       "</table>\n",
       "</div>"
      ],
      "text/plain": [
       "        date  SentimentScore\n",
       "0 2017-01-01        0.109612\n",
       "1 2017-01-02        0.118147\n",
       "2 2017-01-03        0.097646\n",
       "3 2017-01-04        0.088151\n",
       "4 2017-01-05        0.084029"
      ]
     },
     "execution_count": 28,
     "metadata": {},
     "output_type": "execute_result"
    }
   ],
   "source": [
    "tw_sent.head()"
   ]
  },
  {
   "cell_type": "code",
   "execution_count": 29,
   "metadata": {},
   "outputs": [
    {
     "data": {
      "text/plain": [
       "(Index(['date', 'open', 'close', 'NextClose', 'Label'], dtype='object'),\n",
       " Index(['date', 'SentimentScore'], dtype='object'))"
      ]
     },
     "execution_count": 29,
     "metadata": {},
     "output_type": "execute_result"
    }
   ],
   "source": [
    "stock_pkl_df.columns,tw_sent.columns"
   ]
  },
  {
   "cell_type": "code",
   "execution_count": 33,
   "metadata": {},
   "outputs": [
    {
     "data": {
      "text/plain": [
       "(date          object\n",
       " open         float64\n",
       " close        float64\n",
       " NextClose    float64\n",
       " Label          int64\n",
       " dtype: object,\n",
       " date              datetime64[ns]\n",
       " SentimentScore           float64\n",
       " dtype: object)"
      ]
     },
     "execution_count": 33,
     "metadata": {},
     "output_type": "execute_result"
    }
   ],
   "source": [
    "stock_pkl_df.dtypes,tw_sent.dtypes"
   ]
  },
  {
   "cell_type": "code",
   "execution_count": 37,
   "metadata": {},
   "outputs": [],
   "source": [
    "#convert date in stock df to dateformat\n",
    "stock_pkl_df['date'] = pd.to_datetime(stock_pkl_df['date'])"
   ]
  },
  {
   "cell_type": "code",
   "execution_count": 38,
   "metadata": {},
   "outputs": [
    {
     "data": {
      "text/plain": [
       "(date         datetime64[ns]\n",
       " open                float64\n",
       " close               float64\n",
       " NextClose           float64\n",
       " Label                 int64\n",
       " dtype: object,\n",
       " date              datetime64[ns]\n",
       " SentimentScore           float64\n",
       " dtype: object)"
      ]
     },
     "execution_count": 38,
     "metadata": {},
     "output_type": "execute_result"
    }
   ],
   "source": [
    "stock_pkl_df.dtypes,tw_sent.dtypes"
   ]
  },
  {
   "cell_type": "code",
   "execution_count": 39,
   "metadata": {},
   "outputs": [],
   "source": [
    "tw_stock=stock_pkl_df.merge(tw_sent,how='inner')"
   ]
  },
  {
   "cell_type": "code",
   "execution_count": 41,
   "metadata": {},
   "outputs": [
    {
     "data": {
      "text/plain": [
       "((1431, 6),\n",
       " date              0\n",
       " open              0\n",
       " close             0\n",
       " NextClose         1\n",
       " Label             0\n",
       " SentimentScore    0\n",
       " dtype: int64)"
      ]
     },
     "execution_count": 41,
     "metadata": {},
     "output_type": "execute_result"
    }
   ],
   "source": [
    "tw_stock.shape,tw_stock.isna().sum()"
   ]
  },
  {
   "cell_type": "code",
   "execution_count": 42,
   "metadata": {},
   "outputs": [],
   "source": [
    "tw_stock=tw_stock.dropna(subset=['NextClose'])"
   ]
  },
  {
   "cell_type": "code",
   "execution_count": 61,
   "metadata": {},
   "outputs": [],
   "source": [
    "tw_stock.set_index('date',inplace=True)"
   ]
  },
  {
   "cell_type": "code",
   "execution_count": 62,
   "metadata": {},
   "outputs": [
    {
     "data": {
      "text/plain": [
       "((1430, 5),\n",
       " open              0\n",
       " close             0\n",
       " NextClose         0\n",
       " Label             0\n",
       " SentimentScore    0\n",
       " dtype: int64)"
      ]
     },
     "execution_count": 62,
     "metadata": {},
     "output_type": "execute_result"
    }
   ],
   "source": [
    "tw_stock.shape,tw_stock.isna().sum()"
   ]
  },
  {
   "cell_type": "code",
   "execution_count": 63,
   "metadata": {},
   "outputs": [
    {
     "data": {
      "text/plain": [
       "(                  open       close   NextClose  Label  SentimentScore\n",
       " date                                                                 \n",
       " 2017-01-03  115.834667  115.834380  116.075720      1        0.097646\n",
       " 2017-01-04  116.080000  116.075720  116.404615      1        0.088151\n",
       " 2017-01-05  116.358146  116.404615  117.509957      1        0.084029\n",
       " 2017-01-06  117.415657  117.509957  117.840000      1        0.051908\n",
       " 2017-01-07  117.890000  117.840000  118.656853      1        0.083957,\n",
       "                   open       close   NextClose  Label  SentimentScore\n",
       " date                                                                 \n",
       " 2022-04-01  173.974375  173.870125  176.872281      1        0.129811\n",
       " 2022-04-04  176.612800  176.872281  176.380313      0        0.120449\n",
       " 2022-04-05  176.601250  176.380313  172.062187      0        0.123829\n",
       " 2022-04-06  172.328519  172.062187  171.876406      0        0.111728\n",
       " 2022-04-07  171.847506  171.876406  170.994781      0        0.107512)"
      ]
     },
     "execution_count": 63,
     "metadata": {},
     "output_type": "execute_result"
    }
   ],
   "source": [
    "tw_stock.head(),tw_stock.tail()"
   ]
  },
  {
   "cell_type": "code",
   "execution_count": 64,
   "metadata": {},
   "outputs": [
    {
     "name": "stderr",
     "output_type": "stream",
     "text": [
      "/Users/keerthiseetha/villanova/anaconda3/lib/python3.7/site-packages/ipykernel_launcher.py:3: FutureWarning: In a future version of pandas all arguments of DataFrame.drop except for the argument 'labels' will be keyword-only\n",
      "  This is separate from the ipykernel package so we can avoid doing imports until\n"
     ]
    },
    {
     "data": {
      "text/plain": [
       "((1430, 4), (1430,))"
      ]
     },
     "execution_count": 64,
     "metadata": {},
     "output_type": "execute_result"
    }
   ],
   "source": [
    "import numpy as np\n",
    "Xtw=tw_stock\n",
    "Xtw=np.array(Xtw.drop(['Label'],1))\n",
    "ytw=np.array(tw_stock['Label'])\n",
    "Xtw.shape,ytw.shape"
   ]
  },
  {
   "cell_type": "code",
   "execution_count": 65,
   "metadata": {},
   "outputs": [
    {
     "data": {
      "text/plain": [
       "((1000, 4), (430, 4), (1000,), (430,))"
      ]
     },
     "execution_count": 65,
     "metadata": {},
     "output_type": "execute_result"
    }
   ],
   "source": [
    "split_value=int(0.7*len(tw_stock))\n",
    "Xtw_train = Xtw[0:split_value]\n",
    "ytw_train = ytw[0:split_value]\n",
    "\n",
    "Xtw_test = Xtw[split_value:]\n",
    "ytw_test = ytw[split_value:]\n",
    "\n",
    "Xtw_train.shape,Xtw_test.shape,ytw_train.shape,ytw_test.shape"
   ]
  },
  {
   "cell_type": "code",
   "execution_count": 66,
   "metadata": {},
   "outputs": [],
   "source": [
    "#standardizing\n",
    "from sklearn.preprocessing import scale\n",
    "Xtw_train=scale(Xtw_train)\n",
    "Xtw_test=scale(Xtw_test)"
   ]
  },
  {
   "cell_type": "code",
   "execution_count": 67,
   "metadata": {},
   "outputs": [],
   "source": [
    "from sklearn.svm import SVC\n",
    "tw_model=SVC().fit(Xtw_train,ytw_train)\n",
    "pred_tw=tw_model.predict(Xtw_test)"
   ]
  },
  {
   "cell_type": "code",
   "execution_count": 68,
   "metadata": {},
   "outputs": [],
   "source": [
    "from sklearn.metrics import accuracy_score,plot_confusion_matrix"
   ]
  },
  {
   "cell_type": "code",
   "execution_count": 72,
   "metadata": {},
   "outputs": [
    {
     "name": "stdout",
     "output_type": "stream",
     "text": [
      "                     precision    recall  f1-score   support\n",
      "\n",
      "      PriceDecrease       0.04      0.80      0.08        10\n",
      "PriceIncreaseorStay       0.99      0.54      0.70       420\n",
      "\n",
      "           accuracy                           0.54       430\n",
      "          macro avg       0.52      0.67      0.39       430\n",
      "       weighted avg       0.97      0.54      0.68       430\n",
      "\n"
     ]
    }
   ],
   "source": [
    "from sklearn.metrics import classification_report\n",
    "print(classification_report(pred_tw,ytw_test,target_names=['PriceDecrease','PriceIncreaseorStay']))"
   ]
  },
  {
   "cell_type": "code",
   "execution_count": 70,
   "metadata": {},
   "outputs": [
    {
     "data": {
      "text/plain": [
       "0.541860465116279"
      ]
     },
     "execution_count": 70,
     "metadata": {},
     "output_type": "execute_result"
    }
   ],
   "source": [
    "accuracy_score(ytw_test,pred_tw)"
   ]
  },
  {
   "cell_type": "markdown",
   "metadata": {},
   "source": [
    "# Exp 5 : Create a new predictor variable for twitter to use for prediction"
   ]
  },
  {
   "cell_type": "code",
   "execution_count": 74,
   "metadata": {},
   "outputs": [
    {
     "data": {
      "text/plain": [
       "(1430, 5)"
      ]
     },
     "execution_count": 74,
     "metadata": {},
     "output_type": "execute_result"
    }
   ],
   "source": [
    "tw_stock.shape"
   ]
  },
  {
   "cell_type": "code",
   "execution_count": 75,
   "metadata": {},
   "outputs": [],
   "source": [
    "#new variable showing if the price decresed or not in a day\n",
    "tw_stock['C-O']=tw_stock.apply(lambda x: 1 if (x['close']>= x['open']) else 0, axis =1)"
   ]
  },
  {
   "cell_type": "code",
   "execution_count": 76,
   "metadata": {},
   "outputs": [
    {
     "data": {
      "text/html": [
       "<div>\n",
       "<style scoped>\n",
       "    .dataframe tbody tr th:only-of-type {\n",
       "        vertical-align: middle;\n",
       "    }\n",
       "\n",
       "    .dataframe tbody tr th {\n",
       "        vertical-align: top;\n",
       "    }\n",
       "\n",
       "    .dataframe thead th {\n",
       "        text-align: right;\n",
       "    }\n",
       "</style>\n",
       "<table border=\"1\" class=\"dataframe\">\n",
       "  <thead>\n",
       "    <tr style=\"text-align: right;\">\n",
       "      <th></th>\n",
       "      <th>open</th>\n",
       "      <th>close</th>\n",
       "      <th>NextClose</th>\n",
       "      <th>Label</th>\n",
       "      <th>SentimentScore</th>\n",
       "      <th>C-O</th>\n",
       "    </tr>\n",
       "    <tr>\n",
       "      <th>date</th>\n",
       "      <th></th>\n",
       "      <th></th>\n",
       "      <th></th>\n",
       "      <th></th>\n",
       "      <th></th>\n",
       "      <th></th>\n",
       "    </tr>\n",
       "  </thead>\n",
       "  <tbody>\n",
       "    <tr>\n",
       "      <th>2017-01-03</th>\n",
       "      <td>115.834667</td>\n",
       "      <td>115.834380</td>\n",
       "      <td>116.075720</td>\n",
       "      <td>1</td>\n",
       "      <td>0.097646</td>\n",
       "      <td>0</td>\n",
       "    </tr>\n",
       "    <tr>\n",
       "      <th>2017-01-04</th>\n",
       "      <td>116.080000</td>\n",
       "      <td>116.075720</td>\n",
       "      <td>116.404615</td>\n",
       "      <td>1</td>\n",
       "      <td>0.088151</td>\n",
       "      <td>0</td>\n",
       "    </tr>\n",
       "    <tr>\n",
       "      <th>2017-01-05</th>\n",
       "      <td>116.358146</td>\n",
       "      <td>116.404615</td>\n",
       "      <td>117.509957</td>\n",
       "      <td>1</td>\n",
       "      <td>0.084029</td>\n",
       "      <td>1</td>\n",
       "    </tr>\n",
       "    <tr>\n",
       "      <th>2017-01-06</th>\n",
       "      <td>117.415657</td>\n",
       "      <td>117.509957</td>\n",
       "      <td>117.840000</td>\n",
       "      <td>1</td>\n",
       "      <td>0.051908</td>\n",
       "      <td>1</td>\n",
       "    </tr>\n",
       "    <tr>\n",
       "      <th>2017-01-07</th>\n",
       "      <td>117.890000</td>\n",
       "      <td>117.840000</td>\n",
       "      <td>118.656853</td>\n",
       "      <td>1</td>\n",
       "      <td>0.083957</td>\n",
       "      <td>0</td>\n",
       "    </tr>\n",
       "  </tbody>\n",
       "</table>\n",
       "</div>"
      ],
      "text/plain": [
       "                  open       close   NextClose  Label  SentimentScore  C-O\n",
       "date                                                                      \n",
       "2017-01-03  115.834667  115.834380  116.075720      1        0.097646    0\n",
       "2017-01-04  116.080000  116.075720  116.404615      1        0.088151    0\n",
       "2017-01-05  116.358146  116.404615  117.509957      1        0.084029    1\n",
       "2017-01-06  117.415657  117.509957  117.840000      1        0.051908    1\n",
       "2017-01-07  117.890000  117.840000  118.656853      1        0.083957    0"
      ]
     },
     "execution_count": 76,
     "metadata": {},
     "output_type": "execute_result"
    }
   ],
   "source": [
    "tw_stock.head()"
   ]
  },
  {
   "cell_type": "code",
   "execution_count": 77,
   "metadata": {},
   "outputs": [
    {
     "name": "stderr",
     "output_type": "stream",
     "text": [
      "/Users/keerthiseetha/villanova/anaconda3/lib/python3.7/site-packages/ipykernel_launcher.py:2: FutureWarning: In a future version of pandas all arguments of DataFrame.drop except for the argument 'labels' will be keyword-only\n",
      "  \n"
     ]
    },
    {
     "data": {
      "text/plain": [
       "((1430, 5), (1430,))"
      ]
     },
     "execution_count": 77,
     "metadata": {},
     "output_type": "execute_result"
    }
   ],
   "source": [
    "Xtw=tw_stock\n",
    "Xtw=np.array(Xtw.drop(['Label'],1))\n",
    "ytw=np.array(tw_stock['Label'])\n",
    "Xtw.shape,ytw.shape"
   ]
  },
  {
   "cell_type": "code",
   "execution_count": 78,
   "metadata": {},
   "outputs": [
    {
     "data": {
      "text/plain": [
       "((1000, 5), (430, 5), (1000,), (430,))"
      ]
     },
     "execution_count": 78,
     "metadata": {},
     "output_type": "execute_result"
    }
   ],
   "source": [
    "split_value=int(0.7*len(tw_stock))\n",
    "Xtw_train = Xtw[0:split_value]\n",
    "ytw_train = ytw[0:split_value]\n",
    "\n",
    "Xtw_test = Xtw[split_value:]\n",
    "ytw_test = ytw[split_value:]\n",
    "\n",
    "Xtw_train.shape,Xtw_test.shape,ytw_train.shape,ytw_test.shape"
   ]
  },
  {
   "cell_type": "code",
   "execution_count": 79,
   "metadata": {},
   "outputs": [],
   "source": [
    "Xtw_train=scale(Xtw_train)\n",
    "Xtw_test=scale(Xtw_test)"
   ]
  },
  {
   "cell_type": "code",
   "execution_count": 80,
   "metadata": {},
   "outputs": [],
   "source": [
    "tw_model=SVC().fit(Xtw_train,ytw_train)\n",
    "pred_tw=tw_model.predict(Xtw_test)"
   ]
  },
  {
   "cell_type": "code",
   "execution_count": 81,
   "metadata": {},
   "outputs": [
    {
     "name": "stdout",
     "output_type": "stream",
     "text": [
      "                     precision    recall  f1-score   support\n",
      "\n",
      "      PriceDecrease       0.67      0.64      0.65       214\n",
      "PriceIncreaseorStay       0.66      0.69      0.67       216\n",
      "\n",
      "           accuracy                           0.66       430\n",
      "          macro avg       0.66      0.66      0.66       430\n",
      "       weighted avg       0.66      0.66      0.66       430\n",
      "\n"
     ]
    }
   ],
   "source": [
    "print(classification_report(pred_tw,ytw_test,target_names=['PriceDecrease','PriceIncreaseorStay']))"
   ]
  },
  {
   "cell_type": "code",
   "execution_count": 82,
   "metadata": {},
   "outputs": [
    {
     "data": {
      "text/plain": [
       "0.6627906976744186"
      ]
     },
     "execution_count": 82,
     "metadata": {},
     "output_type": "execute_result"
    }
   ],
   "source": [
    "accuracy_score(ytw_test,pred_tw)"
   ]
  },
  {
   "cell_type": "code",
   "execution_count": 94,
   "metadata": {},
   "outputs": [],
   "source": [
    "#dumping df containing stock prices along with tweet sentiments into files\n",
    "tw_stock.to_pickle(\"processed_data/a_tw_stock.pkl\")\n",
    "tw_stock.to_pickle(\"processed_data/a_tw_stock.csv\")"
   ]
  },
  {
   "cell_type": "markdown",
   "metadata": {},
   "source": [
    "# Gradient Boosting Classifier using twitter"
   ]
  },
  {
   "cell_type": "code",
   "execution_count": 4,
   "metadata": {},
   "outputs": [],
   "source": [
    "import pandas as pd\n",
    "tw_pkl = pd.read_pickle('processed_data/a_tw_stock.pkl')\n",
    "tw_stock=pd.DataFrame(tw_pkl)"
   ]
  },
  {
   "cell_type": "code",
   "execution_count": 8,
   "metadata": {},
   "outputs": [
    {
     "name": "stderr",
     "output_type": "stream",
     "text": [
      "/Users/keerthiseetha/villanova/anaconda3/lib/python3.7/site-packages/ipykernel_launcher.py:4: FutureWarning: In a future version of pandas all arguments of DataFrame.drop except for the argument 'labels' will be keyword-only\n",
      "  after removing the cwd from sys.path.\n"
     ]
    }
   ],
   "source": [
    "import numpy as np\n",
    "from sklearn.preprocessing import scale\n",
    "Xtw=tw_stock\n",
    "Xtw=np.array(Xtw.drop(['Label'],1))\n",
    "ytw=np.array(tw_stock['Label'])\n",
    "Xtw.shape,ytw.shape\n",
    "\n",
    "split_value=int(0.7*len(tw_stock))\n",
    "Xtw_train = Xtw[0:split_value]\n",
    "ytw_train = ytw[0:split_value]\n",
    "\n",
    "Xtw_test = Xtw[split_value:]\n",
    "ytw_test = ytw[split_value:]\n",
    "\n",
    "Xtw_train.shape,Xtw_test.shape,ytw_train.shape,ytw_test.shape\n",
    "\n",
    "Xtw_train=scale(Xtw_train)\n",
    "Xtw_test=scale(Xtw_test)"
   ]
  },
  {
   "cell_type": "code",
   "execution_count": 23,
   "metadata": {},
   "outputs": [
    {
     "name": "stdout",
     "output_type": "stream",
     "text": [
      "LR:  0.01\n",
      "Accuracy on train: 0.58900\n",
      "Accuracy on train: 0.52791\n",
      "\n",
      "LR:  0.05\n",
      "Accuracy on train: 0.70800\n",
      "Accuracy on train: 0.57209\n",
      "\n",
      "LR:  0.1\n",
      "Accuracy on train: 0.75000\n",
      "Accuracy on train: 0.66977\n",
      "\n",
      "LR:  0.25\n",
      "Accuracy on train: 0.77900\n",
      "Accuracy on train: 0.67907\n",
      "\n",
      "LR:  0.5\n",
      "Accuracy on train: 0.83900\n",
      "Accuracy on train: 0.72791\n",
      "\n",
      "LR:  0.75\n",
      "Accuracy on train: 0.87500\n",
      "Accuracy on train: 0.72326\n",
      "\n",
      "LR:  1\n",
      "Accuracy on train: 0.87400\n",
      "Accuracy on train: 0.74884\n",
      "\n"
     ]
    }
   ],
   "source": [
    "from sklearn.metrics import confusion_matrix, accuracy_score, classification_report\n",
    "from sklearn.ensemble import GradientBoostingClassifier\n",
    "learning_rates = [0.01,0.05, 0.1, 0.25, 0.5, 0.75, 1]\n",
    "for learning_rate in learning_rates:\n",
    "    model = GradientBoostingClassifier(n_estimators=20,\n",
    "                                      learning_rate=learning_rate,\n",
    "                                      max_features=2,\n",
    "                                      max_depth=3,\n",
    "                                      random_state=0)\n",
    "    model.fit(Xtw_train,ytw_train.ravel())\n",
    "    print(\"LR: \", learning_rate)\n",
    "    \n",
    "    # Scoring the model\n",
    "    print(\"Accuracy on train: {0:.5f}\".format(\n",
    "        model.score(Xtw_train, ytw_train.ravel())))\n",
    "    print(\"Accuracy on train: {0:.5f}\".format(\n",
    "        model.score(Xtw_test, ytw_test.ravel())))\n",
    "    print()"
   ]
  },
  {
   "cell_type": "markdown",
   "metadata": {},
   "source": [
    "Learning Rate of 1 bought the best accuracy on test"
   ]
  },
  {
   "cell_type": "code",
   "execution_count": 11,
   "metadata": {},
   "outputs": [
    {
     "name": "stdout",
     "output_type": "stream",
     "text": [
      "Accuracy Score : 0.7488372093023256\n"
     ]
    }
   ],
   "source": [
    "gd_class=GradientBoostingClassifier(n_estimators=20,\n",
    "                                      learning_rate=1,\n",
    "                                      max_features=2,\n",
    "                                      max_depth=3,\n",
    "                                      random_state=0)\n",
    "gd_class.fit(Xtw_train,ytw_train.ravel())\n",
    "pred = gd_class.predict(Xtw_test)\n",
    "# pd.DataFrame({\"Prediction\": predictions, \"Actual\": y_test.ravel()}).head(20)\n",
    "\n",
    "acc_score = accuracy_score(ytw_test, pred)\n",
    "print(f\"Accuracy Score : {acc_score}\")"
   ]
  },
  {
   "cell_type": "code",
   "execution_count": 12,
   "metadata": {},
   "outputs": [
    {
     "name": "stdout",
     "output_type": "stream",
     "text": [
      "              precision    recall  f1-score   support\n",
      "\n",
      "           0       0.77      0.67      0.72       203\n",
      "           1       0.74      0.81      0.77       227\n",
      "\n",
      "    accuracy                           0.75       430\n",
      "   macro avg       0.75      0.74      0.75       430\n",
      "weighted avg       0.75      0.75      0.75       430\n",
      "\n"
     ]
    }
   ],
   "source": [
    "print(classification_report(ytw_test, pred))"
   ]
  },
  {
   "cell_type": "code",
   "execution_count": 14,
   "metadata": {},
   "outputs": [
    {
     "data": {
      "text/html": [
       "<div>\n",
       "<style scoped>\n",
       "    .dataframe tbody tr th:only-of-type {\n",
       "        vertical-align: middle;\n",
       "    }\n",
       "\n",
       "    .dataframe tbody tr th {\n",
       "        vertical-align: top;\n",
       "    }\n",
       "\n",
       "    .dataframe thead th {\n",
       "        text-align: right;\n",
       "    }\n",
       "</style>\n",
       "<table border=\"1\" class=\"dataframe\">\n",
       "  <thead>\n",
       "    <tr style=\"text-align: right;\">\n",
       "      <th></th>\n",
       "      <th>pred 0</th>\n",
       "      <th>pred 1</th>\n",
       "    </tr>\n",
       "  </thead>\n",
       "  <tbody>\n",
       "    <tr>\n",
       "      <th>true 0</th>\n",
       "      <td>137</td>\n",
       "      <td>66</td>\n",
       "    </tr>\n",
       "    <tr>\n",
       "      <th>true 1</th>\n",
       "      <td>42</td>\n",
       "      <td>185</td>\n",
       "    </tr>\n",
       "  </tbody>\n",
       "</table>\n",
       "</div>"
      ],
      "text/plain": [
       "        pred 0  pred 1\n",
       "true 0     137      66\n",
       "true 1      42     185"
      ]
     },
     "metadata": {},
     "output_type": "display_data"
    }
   ],
   "source": [
    "cm = confusion_matrix(ytw_test, pred)\n",
    "cm_df = pd.DataFrame(\n",
    "    cm, index=[\"true 0\", \"true 1\"],\n",
    "    columns=[\"pred 0\", \"pred 1\"]\n",
    ")\n",
    "\n",
    "display(cm_df)"
   ]
  },
  {
   "cell_type": "markdown",
   "metadata": {},
   "source": [
    "# Random Forest Classifier using twitter"
   ]
  },
  {
   "cell_type": "code",
   "execution_count": 16,
   "metadata": {},
   "outputs": [
    {
     "data": {
      "text/plain": [
       "RandomForestClassifier(bootstrap=True, ccp_alpha=0.0, class_weight=None,\n",
       "                       criterion='gini', max_depth=None, max_features='auto',\n",
       "                       max_leaf_nodes=None, max_samples=None,\n",
       "                       min_impurity_decrease=0.0, min_impurity_split=None,\n",
       "                       min_samples_leaf=1, min_samples_split=2,\n",
       "                       min_weight_fraction_leaf=0.0, n_estimators=100,\n",
       "                       n_jobs=None, oob_score=False, random_state=2311502,\n",
       "                       verbose=0, warm_start=False)"
      ]
     },
     "execution_count": 16,
     "metadata": {},
     "output_type": "execute_result"
    }
   ],
   "source": [
    "from sklearn.ensemble import RandomForestClassifier\n",
    "\n",
    "rf_class = RandomForestClassifier(n_estimators=100, random_state=2311502)\n",
    "rf_class.fit(Xtw_train, ytw_train.ravel())  "
   ]
  },
  {
   "cell_type": "code",
   "execution_count": 18,
   "metadata": {},
   "outputs": [
    {
     "name": "stdout",
     "output_type": "stream",
     "text": [
      " Accuracy :  0.7209302325581395\n"
     ]
    }
   ],
   "source": [
    "\n",
    "rf_pred = rf_class.predict(Xtw_test)\n",
    "\n",
    "print(\" Accuracy : \",accuracy_score(ytw_test, rf_pred))\n"
   ]
  },
  {
   "cell_type": "code",
   "execution_count": 19,
   "metadata": {},
   "outputs": [
    {
     "name": "stdout",
     "output_type": "stream",
     "text": [
      "              precision    recall  f1-score   support\n",
      "\n",
      "           0       0.73      0.64      0.68       203\n",
      "           1       0.71      0.79      0.75       227\n",
      "\n",
      "    accuracy                           0.72       430\n",
      "   macro avg       0.72      0.72      0.72       430\n",
      "weighted avg       0.72      0.72      0.72       430\n",
      "\n"
     ]
    }
   ],
   "source": [
    "print(classification_report(ytw_test, rf_pred))"
   ]
  },
  {
   "cell_type": "code",
   "execution_count": 20,
   "metadata": {},
   "outputs": [
    {
     "data": {
      "text/html": [
       "<div>\n",
       "<style scoped>\n",
       "    .dataframe tbody tr th:only-of-type {\n",
       "        vertical-align: middle;\n",
       "    }\n",
       "\n",
       "    .dataframe tbody tr th {\n",
       "        vertical-align: top;\n",
       "    }\n",
       "\n",
       "    .dataframe thead th {\n",
       "        text-align: right;\n",
       "    }\n",
       "</style>\n",
       "<table border=\"1\" class=\"dataframe\">\n",
       "  <thead>\n",
       "    <tr style=\"text-align: right;\">\n",
       "      <th></th>\n",
       "      <th>pred 0</th>\n",
       "      <th>pred 1</th>\n",
       "    </tr>\n",
       "  </thead>\n",
       "  <tbody>\n",
       "    <tr>\n",
       "      <th>true 0</th>\n",
       "      <td>130</td>\n",
       "      <td>73</td>\n",
       "    </tr>\n",
       "    <tr>\n",
       "      <th>true 1</th>\n",
       "      <td>47</td>\n",
       "      <td>180</td>\n",
       "    </tr>\n",
       "  </tbody>\n",
       "</table>\n",
       "</div>"
      ],
      "text/plain": [
       "        pred 0  pred 1\n",
       "true 0     130      73\n",
       "true 1      47     180"
      ]
     },
     "metadata": {},
     "output_type": "display_data"
    }
   ],
   "source": [
    "cm = confusion_matrix(ytw_test, rf_pred)\n",
    "cm_df = pd.DataFrame(\n",
    "    cm, index=[\"true 0\", \"true 1\"],\n",
    "    columns=[\"pred 0\", \"pred 1\"]\n",
    ")\n",
    "\n",
    "display(cm_df)"
   ]
  },
  {
   "cell_type": "code",
   "execution_count": null,
   "metadata": {},
   "outputs": [],
   "source": []
  },
  {
   "cell_type": "code",
   "execution_count": null,
   "metadata": {},
   "outputs": [],
   "source": []
  },
  {
   "cell_type": "code",
   "execution_count": null,
   "metadata": {},
   "outputs": [],
   "source": []
  },
  {
   "cell_type": "code",
   "execution_count": null,
   "metadata": {},
   "outputs": [],
   "source": []
  },
  {
   "cell_type": "code",
   "execution_count": null,
   "metadata": {},
   "outputs": [],
   "source": []
  },
  {
   "cell_type": "code",
   "execution_count": null,
   "metadata": {},
   "outputs": [],
   "source": []
  },
  {
   "cell_type": "code",
   "execution_count": null,
   "metadata": {},
   "outputs": [],
   "source": []
  },
  {
   "cell_type": "code",
   "execution_count": null,
   "metadata": {},
   "outputs": [],
   "source": []
  },
  {
   "cell_type": "code",
   "execution_count": null,
   "metadata": {},
   "outputs": [],
   "source": []
  },
  {
   "cell_type": "code",
   "execution_count": 57,
   "metadata": {},
   "outputs": [
    {
     "data": {
      "text/plain": [
       "((603, 2), (1026, 2))"
      ]
     },
     "execution_count": 57,
     "metadata": {},
     "output_type": "execute_result"
    }
   ],
   "source": [
    "# mw_pkl_df.shape,mf_pkl_df.shape"
   ]
  },
  {
   "cell_type": "code",
   "execution_count": 59,
   "metadata": {},
   "outputs": [],
   "source": [
    "# result=mw_pkl_df.append(mf_pkl_df) #appeninf MF and MW sentiments dfs"
   ]
  },
  {
   "cell_type": "code",
   "execution_count": 61,
   "metadata": {},
   "outputs": [
    {
     "data": {
      "text/plain": [
       "((1629, 2),\n",
       "             fulltext_sents  lemm_sents\n",
       " date                                  \n",
       " 2016-10-19          0.9433     0.96285\n",
       " 2016-10-25          0.7783     0.75060\n",
       " 2016-10-28          0.9937     0.98580\n",
       " 2016-10-31          0.9647     0.90940\n",
       " 2016-11-03          0.9942     0.98540)"
      ]
     },
     "execution_count": 61,
     "metadata": {},
     "output_type": "execute_result"
    }
   ],
   "source": [
    "# result.shape,result.head()"
   ]
  },
  {
   "cell_type": "code",
   "execution_count": 62,
   "metadata": {},
   "outputs": [],
   "source": [
    "#getting the sentiments average per day\n",
    "# full_sent = result.groupby('date')['fulltext_sents'].mean().reset_index()\n",
    "# lemm_sent=result.groupby('date')['lemm_sents'].mean().reset_index()"
   ]
  },
  {
   "cell_type": "code",
   "execution_count": 64,
   "metadata": {},
   "outputs": [
    {
     "data": {
      "text/plain": [
       "(         date  fulltext_sents\n",
       " 0  2016-01-18          0.0000\n",
       " 1  2016-10-19          0.9433\n",
       " 2  2016-10-25          0.7783\n",
       " 3  2016-10-28          0.9937\n",
       " 4  2016-10-31          0.9647,\n",
       "          date  lemm_sents\n",
       " 0  2016-01-18     0.00000\n",
       " 1  2016-10-19     0.96285\n",
       " 2  2016-10-25     0.75060\n",
       " 3  2016-10-28     0.98580\n",
       " 4  2016-10-31     0.90940,\n",
       " (1238, 2),\n",
       " (1238, 2))"
      ]
     },
     "execution_count": 64,
     "metadata": {},
     "output_type": "execute_result"
    }
   ],
   "source": [
    "# full_sent.head(),lemm_sent.head(),full_sent.shape,lemm_sent.shape"
   ]
  },
  {
   "cell_type": "code",
   "execution_count": 71,
   "metadata": {},
   "outputs": [],
   "source": [
    "# new_sentiments = pd.merge(full_sent, lemm_sent, how='inner')"
   ]
  },
  {
   "cell_type": "code",
   "execution_count": 72,
   "metadata": {},
   "outputs": [
    {
     "data": {
      "text/plain": [
       "((1238, 3),\n",
       "          date  fulltext_sents  lemm_sents\n",
       " 0  2016-01-18          0.0000     0.00000\n",
       " 1  2016-10-19          0.9433     0.96285\n",
       " 2  2016-10-25          0.7783     0.75060\n",
       " 3  2016-10-28          0.9937     0.98580\n",
       " 4  2016-10-31          0.9647     0.90940)"
      ]
     },
     "execution_count": 72,
     "metadata": {},
     "output_type": "execute_result"
    }
   ],
   "source": [
    "# new_sentiments.shape,new_sentiments.head()"
   ]
  },
  {
   "cell_type": "code",
   "execution_count": 73,
   "metadata": {},
   "outputs": [
    {
     "data": {
      "text/html": [
       "<div>\n",
       "<style scoped>\n",
       "    .dataframe tbody tr th:only-of-type {\n",
       "        vertical-align: middle;\n",
       "    }\n",
       "\n",
       "    .dataframe tbody tr th {\n",
       "        vertical-align: top;\n",
       "    }\n",
       "\n",
       "    .dataframe thead th {\n",
       "        text-align: right;\n",
       "    }\n",
       "</style>\n",
       "<table border=\"1\" class=\"dataframe\">\n",
       "  <thead>\n",
       "    <tr style=\"text-align: right;\">\n",
       "      <th></th>\n",
       "      <th>fulltext_sents</th>\n",
       "      <th>lemm_sents</th>\n",
       "    </tr>\n",
       "    <tr>\n",
       "      <th>date</th>\n",
       "      <th></th>\n",
       "      <th></th>\n",
       "    </tr>\n",
       "  </thead>\n",
       "  <tbody>\n",
       "    <tr>\n",
       "      <th>2016-01-18</th>\n",
       "      <td>0.000000</td>\n",
       "      <td>0.000000</td>\n",
       "    </tr>\n",
       "    <tr>\n",
       "      <th>2016-10-19</th>\n",
       "      <td>0.943300</td>\n",
       "      <td>0.962850</td>\n",
       "    </tr>\n",
       "    <tr>\n",
       "      <th>2016-10-25</th>\n",
       "      <td>0.778300</td>\n",
       "      <td>0.750600</td>\n",
       "    </tr>\n",
       "    <tr>\n",
       "      <th>2016-10-28</th>\n",
       "      <td>0.993700</td>\n",
       "      <td>0.985800</td>\n",
       "    </tr>\n",
       "    <tr>\n",
       "      <th>2016-10-31</th>\n",
       "      <td>0.964700</td>\n",
       "      <td>0.909400</td>\n",
       "    </tr>\n",
       "    <tr>\n",
       "      <th>...</th>\n",
       "      <td>...</td>\n",
       "      <td>...</td>\n",
       "    </tr>\n",
       "    <tr>\n",
       "      <th>2022-02-15</th>\n",
       "      <td>0.475725</td>\n",
       "      <td>0.479900</td>\n",
       "    </tr>\n",
       "    <tr>\n",
       "      <th>2022-02-16</th>\n",
       "      <td>0.754800</td>\n",
       "      <td>0.739967</td>\n",
       "    </tr>\n",
       "    <tr>\n",
       "      <th>2022-02-17</th>\n",
       "      <td>0.903325</td>\n",
       "      <td>0.833538</td>\n",
       "    </tr>\n",
       "    <tr>\n",
       "      <th>2022-02-18</th>\n",
       "      <td>0.613088</td>\n",
       "      <td>0.590175</td>\n",
       "    </tr>\n",
       "    <tr>\n",
       "      <th>2022-02-21</th>\n",
       "      <td>0.952800</td>\n",
       "      <td>0.929600</td>\n",
       "    </tr>\n",
       "  </tbody>\n",
       "</table>\n",
       "<p>1238 rows × 2 columns</p>\n",
       "</div>"
      ],
      "text/plain": [
       "            fulltext_sents  lemm_sents\n",
       "date                                  \n",
       "2016-01-18        0.000000    0.000000\n",
       "2016-10-19        0.943300    0.962850\n",
       "2016-10-25        0.778300    0.750600\n",
       "2016-10-28        0.993700    0.985800\n",
       "2016-10-31        0.964700    0.909400\n",
       "...                    ...         ...\n",
       "2022-02-15        0.475725    0.479900\n",
       "2022-02-16        0.754800    0.739967\n",
       "2022-02-17        0.903325    0.833538\n",
       "2022-02-18        0.613088    0.590175\n",
       "2022-02-21        0.952800    0.929600\n",
       "\n",
       "[1238 rows x 2 columns]"
      ]
     },
     "execution_count": 73,
     "metadata": {},
     "output_type": "execute_result"
    }
   ],
   "source": [
    "# new_sentiments.set_index('date')"
   ]
  },
  {
   "cell_type": "code",
   "execution_count": 91,
   "metadata": {},
   "outputs": [
    {
     "data": {
      "text/plain": [
       "(1727, 4)"
      ]
     },
     "execution_count": 91,
     "metadata": {},
     "output_type": "execute_result"
    }
   ],
   "source": [
    "# stock_pkl_df.shape"
   ]
  },
  {
   "cell_type": "code",
   "execution_count": 93,
   "metadata": {},
   "outputs": [],
   "source": [
    "# news_stock=stock_pkl_df.merge(new_sentiments,how='inner',left_index=True,right_index=True)"
   ]
  },
  {
   "cell_type": "code",
   "execution_count": 94,
   "metadata": {},
   "outputs": [
    {
     "data": {
      "text/plain": [
       "(0, 7)"
      ]
     },
     "execution_count": 94,
     "metadata": {},
     "output_type": "execute_result"
    }
   ],
   "source": [
    "# news_stock.shape"
   ]
  },
  {
   "cell_type": "code",
   "execution_count": 92,
   "metadata": {},
   "outputs": [
    {
     "data": {
      "text/plain": [
       "open                 0\n",
       "close                0\n",
       "NextClose            1\n",
       "Label                0\n",
       "date              1727\n",
       "fulltext_sents    1727\n",
       "lemm_sents        1727\n",
       "dtype: int64"
      ]
     },
     "execution_count": 92,
     "metadata": {},
     "output_type": "execute_result"
    }
   ],
   "source": [
    "# news_stock.isna().sum()"
   ]
  },
  {
   "cell_type": "code",
   "execution_count": 84,
   "metadata": {},
   "outputs": [
    {
     "name": "stderr",
     "output_type": "stream",
     "text": [
      "/Users/keerthiseetha/villanova/anaconda3/lib/python3.7/site-packages/ipykernel_launcher.py:2: FutureWarning: In a future version of pandas all arguments of DataFrame.drop except for the argument 'labels' will be keyword-only\n",
      "  \n"
     ]
    },
    {
     "data": {
      "text/plain": [
       "((0, 6), (0,))"
      ]
     },
     "execution_count": 84,
     "metadata": {},
     "output_type": "execute_result"
    }
   ],
   "source": [
    "# X_1=news_stock\n",
    "# X_1=np.array(X_1.drop(['Label'],1))\n",
    "\n",
    "# y_1=np.array(news_stock['Label'])\n",
    "\n",
    "# X_1.shape,y_1.shape"
   ]
  },
  {
   "cell_type": "code",
   "execution_count": null,
   "metadata": {},
   "outputs": [],
   "source": [
    "# X1_train = X_1[0:split_value]\n",
    "# y1_train = y_1[0:split_value]\n",
    "\n",
    "# X1_test = X_1[split_value:]\n",
    "# y1_test = y_1[split_value:]\n"
   ]
  },
  {
   "cell_type": "code",
   "execution_count": null,
   "metadata": {},
   "outputs": [],
   "source": [
    "\n",
    "# X1_train=scale(X1_train)\n",
    "# X1_test=scale(X1_test)"
   ]
  },
  {
   "cell_type": "code",
   "execution_count": 82,
   "metadata": {},
   "outputs": [
    {
     "ename": "ValueError",
     "evalue": "Found array with 0 sample(s) (shape=(0, 6)) while a minimum of 1 is required.",
     "output_type": "error",
     "traceback": [
      "\u001b[0;31m---------------------------------------------------------------------------\u001b[0m",
      "\u001b[0;31mValueError\u001b[0m                                Traceback (most recent call last)",
      "\u001b[0;32m<ipython-input-82-21e0ff968825>\u001b[0m in \u001b[0;36m<module>\u001b[0;34m\u001b[0m\n\u001b[1;32m     14\u001b[0m \u001b[0;31m# X1_test=scale(X1_test)\u001b[0m\u001b[0;34m\u001b[0m\u001b[0;34m\u001b[0m\u001b[0;34m\u001b[0m\u001b[0m\n\u001b[1;32m     15\u001b[0m \u001b[0;34m\u001b[0m\u001b[0m\n\u001b[0;32m---> 16\u001b[0;31m \u001b[0mmodel_1\u001b[0m\u001b[0;34m=\u001b[0m\u001b[0mSVC\u001b[0m\u001b[0;34m(\u001b[0m\u001b[0;34m)\u001b[0m\u001b[0;34m.\u001b[0m\u001b[0mfit\u001b[0m\u001b[0;34m(\u001b[0m\u001b[0mX1_train\u001b[0m\u001b[0;34m,\u001b[0m\u001b[0my1_train\u001b[0m\u001b[0;34m)\u001b[0m\u001b[0;34m\u001b[0m\u001b[0;34m\u001b[0m\u001b[0m\n\u001b[0m\u001b[1;32m     17\u001b[0m \u001b[0mpred_1\u001b[0m\u001b[0;34m=\u001b[0m\u001b[0mmodel_1\u001b[0m\u001b[0;34m.\u001b[0m\u001b[0mpredict\u001b[0m\u001b[0;34m(\u001b[0m\u001b[0mX1_test\u001b[0m\u001b[0;34m)\u001b[0m\u001b[0;34m\u001b[0m\u001b[0;34m\u001b[0m\u001b[0m\n",
      "\u001b[0;32m~/villanova/anaconda3/lib/python3.7/site-packages/sklearn/svm/_base.py\u001b[0m in \u001b[0;36mfit\u001b[0;34m(self, X, y, sample_weight)\u001b[0m\n\u001b[1;32m    146\u001b[0m         X, y = check_X_y(X, y, dtype=np.float64,\n\u001b[1;32m    147\u001b[0m                          \u001b[0morder\u001b[0m\u001b[0;34m=\u001b[0m\u001b[0;34m'C'\u001b[0m\u001b[0;34m,\u001b[0m \u001b[0maccept_sparse\u001b[0m\u001b[0;34m=\u001b[0m\u001b[0;34m'csr'\u001b[0m\u001b[0;34m,\u001b[0m\u001b[0;34m\u001b[0m\u001b[0;34m\u001b[0m\u001b[0m\n\u001b[0;32m--> 148\u001b[0;31m                          accept_large_sparse=False)\n\u001b[0m\u001b[1;32m    149\u001b[0m         \u001b[0my\u001b[0m \u001b[0;34m=\u001b[0m \u001b[0mself\u001b[0m\u001b[0;34m.\u001b[0m\u001b[0m_validate_targets\u001b[0m\u001b[0;34m(\u001b[0m\u001b[0my\u001b[0m\u001b[0;34m)\u001b[0m\u001b[0;34m\u001b[0m\u001b[0;34m\u001b[0m\u001b[0m\n\u001b[1;32m    150\u001b[0m \u001b[0;34m\u001b[0m\u001b[0m\n",
      "\u001b[0;32m~/villanova/anaconda3/lib/python3.7/site-packages/sklearn/utils/validation.py\u001b[0m in \u001b[0;36mcheck_X_y\u001b[0;34m(X, y, accept_sparse, accept_large_sparse, dtype, order, copy, force_all_finite, ensure_2d, allow_nd, multi_output, ensure_min_samples, ensure_min_features, y_numeric, warn_on_dtype, estimator)\u001b[0m\n\u001b[1;32m    753\u001b[0m                     \u001b[0mensure_min_features\u001b[0m\u001b[0;34m=\u001b[0m\u001b[0mensure_min_features\u001b[0m\u001b[0;34m,\u001b[0m\u001b[0;34m\u001b[0m\u001b[0;34m\u001b[0m\u001b[0m\n\u001b[1;32m    754\u001b[0m                     \u001b[0mwarn_on_dtype\u001b[0m\u001b[0;34m=\u001b[0m\u001b[0mwarn_on_dtype\u001b[0m\u001b[0;34m,\u001b[0m\u001b[0;34m\u001b[0m\u001b[0;34m\u001b[0m\u001b[0m\n\u001b[0;32m--> 755\u001b[0;31m                     estimator=estimator)\n\u001b[0m\u001b[1;32m    756\u001b[0m     \u001b[0;32mif\u001b[0m \u001b[0mmulti_output\u001b[0m\u001b[0;34m:\u001b[0m\u001b[0;34m\u001b[0m\u001b[0;34m\u001b[0m\u001b[0m\n\u001b[1;32m    757\u001b[0m         y = check_array(y, 'csr', force_all_finite=True, ensure_2d=False,\n",
      "\u001b[0;32m~/villanova/anaconda3/lib/python3.7/site-packages/sklearn/utils/validation.py\u001b[0m in \u001b[0;36mcheck_array\u001b[0;34m(array, accept_sparse, accept_large_sparse, dtype, order, copy, force_all_finite, ensure_2d, allow_nd, ensure_min_samples, ensure_min_features, warn_on_dtype, estimator)\u001b[0m\n\u001b[1;32m    584\u001b[0m                              \u001b[0;34m\" minimum of %d is required%s.\"\u001b[0m\u001b[0;34m\u001b[0m\u001b[0;34m\u001b[0m\u001b[0m\n\u001b[1;32m    585\u001b[0m                              % (n_samples, array.shape, ensure_min_samples,\n\u001b[0;32m--> 586\u001b[0;31m                                 context))\n\u001b[0m\u001b[1;32m    587\u001b[0m \u001b[0;34m\u001b[0m\u001b[0m\n\u001b[1;32m    588\u001b[0m     \u001b[0;32mif\u001b[0m \u001b[0mensure_min_features\u001b[0m \u001b[0;34m>\u001b[0m \u001b[0;36m0\u001b[0m \u001b[0;32mand\u001b[0m \u001b[0marray\u001b[0m\u001b[0;34m.\u001b[0m\u001b[0mndim\u001b[0m \u001b[0;34m==\u001b[0m \u001b[0;36m2\u001b[0m\u001b[0;34m:\u001b[0m\u001b[0;34m\u001b[0m\u001b[0;34m\u001b[0m\u001b[0m\n",
      "\u001b[0;31mValueError\u001b[0m: Found array with 0 sample(s) (shape=(0, 6)) while a minimum of 1 is required."
     ]
    }
   ],
   "source": [
    "\n",
    "\n",
    "\n",
    "\n",
    "# model_1=SVC().fit(X1_train,y1_train)\n",
    "# pred_1=model_1.predict(X1_test)"
   ]
  },
  {
   "cell_type": "code",
   "execution_count": null,
   "metadata": {},
   "outputs": [],
   "source": []
  },
  {
   "cell_type": "code",
   "execution_count": null,
   "metadata": {},
   "outputs": [],
   "source": []
  }
 ],
 "metadata": {
  "kernelspec": {
   "display_name": "Python 3",
   "language": "python",
   "name": "python3"
  },
  "language_info": {
   "codemirror_mode": {
    "name": "ipython",
    "version": 3
   },
   "file_extension": ".py",
   "mimetype": "text/x-python",
   "name": "python",
   "nbconvert_exporter": "python",
   "pygments_lexer": "ipython3",
   "version": "3.7.6"
  }
 },
 "nbformat": 4,
 "nbformat_minor": 4
}
