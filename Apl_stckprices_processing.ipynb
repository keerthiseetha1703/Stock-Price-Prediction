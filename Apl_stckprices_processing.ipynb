{
 "cells": [
  {
   "cell_type": "code",
   "execution_count": 9,
   "metadata": {},
   "outputs": [
    {
     "ename": "TypeError",
     "evalue": "read_pickle() got an unexpected keyword argument 'header'",
     "output_type": "error",
     "traceback": [
      "\u001b[0;31m---------------------------------------------------------------------------\u001b[0m",
      "\u001b[0;31mTypeError\u001b[0m                                 Traceback (most recent call last)",
      "\u001b[0;32m<ipython-input-9-d6a75a17025d>\u001b[0m in \u001b[0;36m<module>\u001b[0;34m\u001b[0m\n\u001b[1;32m      1\u001b[0m \u001b[0;32mimport\u001b[0m \u001b[0mpandas\u001b[0m \u001b[0;32mas\u001b[0m \u001b[0mpd\u001b[0m\u001b[0;34m\u001b[0m\u001b[0;34m\u001b[0m\u001b[0m\n\u001b[1;32m      2\u001b[0m \u001b[0;31m#Reading plk file into dataframe\u001b[0m\u001b[0;34m\u001b[0m\u001b[0;34m\u001b[0m\u001b[0;34m\u001b[0m\u001b[0m\n\u001b[0;32m----> 3\u001b[0;31m \u001b[0mapl_stck_pckl\u001b[0m \u001b[0;34m=\u001b[0m \u001b[0mpd\u001b[0m\u001b[0;34m.\u001b[0m\u001b[0mread_pickle\u001b[0m\u001b[0;34m(\u001b[0m\u001b[0;34m'apple_prices_alpaca.plk'\u001b[0m\u001b[0;34m,\u001b[0m\u001b[0mheader\u001b[0m\u001b[0;34m=\u001b[0m\u001b[0;36m1\u001b[0m\u001b[0;34m)\u001b[0m\u001b[0;34m\u001b[0m\u001b[0;34m\u001b[0m\u001b[0m\n\u001b[0m\u001b[1;32m      4\u001b[0m \u001b[0mapl_stck_df\u001b[0m\u001b[0;34m=\u001b[0m\u001b[0mpd\u001b[0m\u001b[0;34m.\u001b[0m\u001b[0mDataFrame\u001b[0m\u001b[0;34m(\u001b[0m\u001b[0mapl_stck_pckl\u001b[0m\u001b[0;34m)\u001b[0m\u001b[0;34m\u001b[0m\u001b[0;34m\u001b[0m\u001b[0m\n\u001b[1;32m      5\u001b[0m \u001b[0mapl_stck_df\u001b[0m\u001b[0;34m.\u001b[0m\u001b[0mhead\u001b[0m\u001b[0;34m(\u001b[0m\u001b[0;34m)\u001b[0m\u001b[0;34m\u001b[0m\u001b[0;34m\u001b[0m\u001b[0m\n",
      "\u001b[0;31mTypeError\u001b[0m: read_pickle() got an unexpected keyword argument 'header'"
     ]
    }
   ],
   "source": [
    "import pandas as pd\n",
    "#Reading plk file into dataframe\n",
    "apl_stck_pckl = pd.read_pickle('apple_prices_alpaca.plk')\n",
    "apl_stck_df=pd.DataFrame(apl_stck_pckl)\n",
    "apl_stck_df.head()"
   ]
  },
  {
   "cell_type": "code",
   "execution_count": 18,
   "metadata": {},
   "outputs": [
    {
     "data": {
      "text/html": [
       "<div>\n",
       "<style scoped>\n",
       "    .dataframe tbody tr th:only-of-type {\n",
       "        vertical-align: middle;\n",
       "    }\n",
       "\n",
       "    .dataframe tbody tr th {\n",
       "        vertical-align: top;\n",
       "    }\n",
       "\n",
       "    .dataframe thead th {\n",
       "        text-align: right;\n",
       "    }\n",
       "</style>\n",
       "<table border=\"1\" class=\"dataframe\">\n",
       "  <thead>\n",
       "    <tr style=\"text-align: right;\">\n",
       "      <th></th>\n",
       "      <th>open</th>\n",
       "      <th>high</th>\n",
       "      <th>low</th>\n",
       "      <th>close</th>\n",
       "      <th>volume</th>\n",
       "      <th>trade_count</th>\n",
       "      <th>vwap</th>\n",
       "    </tr>\n",
       "    <tr>\n",
       "      <th>timestamp</th>\n",
       "      <th></th>\n",
       "      <th></th>\n",
       "      <th></th>\n",
       "      <th></th>\n",
       "      <th></th>\n",
       "      <th></th>\n",
       "      <th></th>\n",
       "    </tr>\n",
       "  </thead>\n",
       "  <tbody>\n",
       "    <tr>\n",
       "      <th>2015-12-01 09:00:00+00:00</th>\n",
       "      <td>118.88</td>\n",
       "      <td>118.94</td>\n",
       "      <td>118.60</td>\n",
       "      <td>118.65</td>\n",
       "      <td>5825</td>\n",
       "      <td>15</td>\n",
       "      <td>118.696799</td>\n",
       "    </tr>\n",
       "    <tr>\n",
       "      <th>2015-12-01 10:00:00+00:00</th>\n",
       "      <td>118.65</td>\n",
       "      <td>118.72</td>\n",
       "      <td>118.50</td>\n",
       "      <td>118.72</td>\n",
       "      <td>7077</td>\n",
       "      <td>24</td>\n",
       "      <td>118.585340</td>\n",
       "    </tr>\n",
       "    <tr>\n",
       "      <th>2015-12-01 11:00:00+00:00</th>\n",
       "      <td>118.71</td>\n",
       "      <td>118.99</td>\n",
       "      <td>118.71</td>\n",
       "      <td>118.90</td>\n",
       "      <td>14956</td>\n",
       "      <td>72</td>\n",
       "      <td>118.858641</td>\n",
       "    </tr>\n",
       "    <tr>\n",
       "      <th>2015-12-01 12:00:00+00:00</th>\n",
       "      <td>118.88</td>\n",
       "      <td>118.98</td>\n",
       "      <td>118.76</td>\n",
       "      <td>118.94</td>\n",
       "      <td>24677</td>\n",
       "      <td>129</td>\n",
       "      <td>118.857629</td>\n",
       "    </tr>\n",
       "    <tr>\n",
       "      <th>2015-12-01 13:00:00+00:00</th>\n",
       "      <td>118.88</td>\n",
       "      <td>119.00</td>\n",
       "      <td>118.60</td>\n",
       "      <td>118.63</td>\n",
       "      <td>95036</td>\n",
       "      <td>309</td>\n",
       "      <td>118.732677</td>\n",
       "    </tr>\n",
       "  </tbody>\n",
       "</table>\n",
       "</div>"
      ],
      "text/plain": [
       "                             open    high     low   close  volume  \\\n",
       "timestamp                                                           \n",
       "2015-12-01 09:00:00+00:00  118.88  118.94  118.60  118.65    5825   \n",
       "2015-12-01 10:00:00+00:00  118.65  118.72  118.50  118.72    7077   \n",
       "2015-12-01 11:00:00+00:00  118.71  118.99  118.71  118.90   14956   \n",
       "2015-12-01 12:00:00+00:00  118.88  118.98  118.76  118.94   24677   \n",
       "2015-12-01 13:00:00+00:00  118.88  119.00  118.60  118.63   95036   \n",
       "\n",
       "                           trade_count        vwap  \n",
       "timestamp                                           \n",
       "2015-12-01 09:00:00+00:00           15  118.696799  \n",
       "2015-12-01 10:00:00+00:00           24  118.585340  \n",
       "2015-12-01 11:00:00+00:00           72  118.858641  \n",
       "2015-12-01 12:00:00+00:00          129  118.857629  \n",
       "2015-12-01 13:00:00+00:00          309  118.732677  "
      ]
     },
     "execution_count": 18,
     "metadata": {},
     "output_type": "execute_result"
    }
   ],
   "source": [
    "apl_stck_df = apl_stck_df.sort_values(\"timestamp\")\n",
    "# apl_stck_df = apl_stck_df.set_index(\"timestamp\")\n",
    "apl_stck_df.head()"
   ]
  },
  {
   "cell_type": "code",
   "execution_count": 6,
   "metadata": {},
   "outputs": [
    {
     "data": {
      "text/plain": [
       "Index(['open', 'high', 'low', 'close', 'volume', 'trade_count', 'vwap'], dtype='object')"
      ]
     },
     "execution_count": 6,
     "metadata": {},
     "output_type": "execute_result"
    }
   ],
   "source": [
    "apl_stck_df.columns"
   ]
  },
  {
   "cell_type": "code",
   "execution_count": 12,
   "metadata": {},
   "outputs": [
    {
     "data": {
      "text/html": [
       "<div>\n",
       "<style scoped>\n",
       "    .dataframe tbody tr th:only-of-type {\n",
       "        vertical-align: middle;\n",
       "    }\n",
       "\n",
       "    .dataframe tbody tr th {\n",
       "        vertical-align: top;\n",
       "    }\n",
       "\n",
       "    .dataframe thead th {\n",
       "        text-align: right;\n",
       "    }\n",
       "</style>\n",
       "<table border=\"1\" class=\"dataframe\">\n",
       "  <thead>\n",
       "    <tr style=\"text-align: right;\">\n",
       "      <th></th>\n",
       "      <th>open</th>\n",
       "      <th>high</th>\n",
       "      <th>low</th>\n",
       "      <th>close</th>\n",
       "      <th>volume</th>\n",
       "      <th>trade_count</th>\n",
       "      <th>vwap</th>\n",
       "    </tr>\n",
       "    <tr>\n",
       "      <th>timestamp</th>\n",
       "      <th></th>\n",
       "      <th></th>\n",
       "      <th></th>\n",
       "      <th></th>\n",
       "      <th></th>\n",
       "      <th></th>\n",
       "      <th></th>\n",
       "    </tr>\n",
       "  </thead>\n",
       "  <tbody>\n",
       "    <tr>\n",
       "      <th>2015-12-01 09:00:00+00:00</th>\n",
       "      <td>118.88</td>\n",
       "      <td>118.94</td>\n",
       "      <td>118.60</td>\n",
       "      <td>118.65</td>\n",
       "      <td>5825</td>\n",
       "      <td>15</td>\n",
       "      <td>118.696799</td>\n",
       "    </tr>\n",
       "    <tr>\n",
       "      <th>2015-12-01 10:00:00+00:00</th>\n",
       "      <td>118.65</td>\n",
       "      <td>118.72</td>\n",
       "      <td>118.50</td>\n",
       "      <td>118.72</td>\n",
       "      <td>7077</td>\n",
       "      <td>24</td>\n",
       "      <td>118.585340</td>\n",
       "    </tr>\n",
       "    <tr>\n",
       "      <th>2015-12-01 11:00:00+00:00</th>\n",
       "      <td>118.71</td>\n",
       "      <td>118.99</td>\n",
       "      <td>118.71</td>\n",
       "      <td>118.90</td>\n",
       "      <td>14956</td>\n",
       "      <td>72</td>\n",
       "      <td>118.858641</td>\n",
       "    </tr>\n",
       "    <tr>\n",
       "      <th>2015-12-01 12:00:00+00:00</th>\n",
       "      <td>118.88</td>\n",
       "      <td>118.98</td>\n",
       "      <td>118.76</td>\n",
       "      <td>118.94</td>\n",
       "      <td>24677</td>\n",
       "      <td>129</td>\n",
       "      <td>118.857629</td>\n",
       "    </tr>\n",
       "    <tr>\n",
       "      <th>2015-12-01 13:00:00+00:00</th>\n",
       "      <td>118.88</td>\n",
       "      <td>119.00</td>\n",
       "      <td>118.60</td>\n",
       "      <td>118.63</td>\n",
       "      <td>95036</td>\n",
       "      <td>309</td>\n",
       "      <td>118.732677</td>\n",
       "    </tr>\n",
       "  </tbody>\n",
       "</table>\n",
       "</div>"
      ],
      "text/plain": [
       "                             open    high     low   close  volume  \\\n",
       "timestamp                                                           \n",
       "2015-12-01 09:00:00+00:00  118.88  118.94  118.60  118.65    5825   \n",
       "2015-12-01 10:00:00+00:00  118.65  118.72  118.50  118.72    7077   \n",
       "2015-12-01 11:00:00+00:00  118.71  118.99  118.71  118.90   14956   \n",
       "2015-12-01 12:00:00+00:00  118.88  118.98  118.76  118.94   24677   \n",
       "2015-12-01 13:00:00+00:00  118.88  119.00  118.60  118.63   95036   \n",
       "\n",
       "                           trade_count        vwap  \n",
       "timestamp                                           \n",
       "2015-12-01 09:00:00+00:00           15  118.696799  \n",
       "2015-12-01 10:00:00+00:00           24  118.585340  \n",
       "2015-12-01 11:00:00+00:00           72  118.858641  \n",
       "2015-12-01 12:00:00+00:00          129  118.857629  \n",
       "2015-12-01 13:00:00+00:00          309  118.732677  "
      ]
     },
     "execution_count": 12,
     "metadata": {},
     "output_type": "execute_result"
    }
   ],
   "source": [
    "apl_stck_df.head()"
   ]
  },
  {
   "cell_type": "code",
   "execution_count": 23,
   "metadata": {},
   "outputs": [],
   "source": [
    "#changing the timestamp column from index to column\n",
    "apl_stck_df.reset_index(inplace=True)"
   ]
  },
  {
   "cell_type": "code",
   "execution_count": 24,
   "metadata": {},
   "outputs": [],
   "source": [
    "#converting timestamp to date to make it feasible for calculating day wise values\n",
    "apl_stck_df['date'] = pd.to_datetime(apl_stck_df['timestamp']).dt.date"
   ]
  },
  {
   "cell_type": "code",
   "execution_count": 25,
   "metadata": {},
   "outputs": [
    {
     "data": {
      "text/plain": [
       "Index(['timestamp', 'open', 'high', 'low', 'close', 'volume', 'trade_count',\n",
       "       'vwap', 'date'],\n",
       "      dtype='object')"
      ]
     },
     "execution_count": 25,
     "metadata": {},
     "output_type": "execute_result"
    }
   ],
   "source": [
    "apl_stck_df.columns"
   ]
  },
  {
   "cell_type": "code",
   "execution_count": 28,
   "metadata": {},
   "outputs": [],
   "source": [
    "opening_values=apl_stck_df.groupby('date')['open'].mean().reset_index()"
   ]
  },
  {
   "cell_type": "code",
   "execution_count": 29,
   "metadata": {},
   "outputs": [],
   "source": [
    "closing_values=apl_stck_df.groupby('date')['close'].mean().reset_index()"
   ]
  },
  {
   "cell_type": "code",
   "execution_count": 32,
   "metadata": {},
   "outputs": [],
   "source": [
    "open_close_df= pd.merge(opening_values, closing_values, how='inner',on=['date'])"
   ]
  },
  {
   "cell_type": "code",
   "execution_count": 33,
   "metadata": {},
   "outputs": [
    {
     "data": {
      "text/html": [
       "<div>\n",
       "<style scoped>\n",
       "    .dataframe tbody tr th:only-of-type {\n",
       "        vertical-align: middle;\n",
       "    }\n",
       "\n",
       "    .dataframe tbody tr th {\n",
       "        vertical-align: top;\n",
       "    }\n",
       "\n",
       "    .dataframe thead th {\n",
       "        text-align: right;\n",
       "    }\n",
       "</style>\n",
       "<table border=\"1\" class=\"dataframe\">\n",
       "  <thead>\n",
       "    <tr style=\"text-align: right;\">\n",
       "      <th></th>\n",
       "      <th>date</th>\n",
       "      <th>open</th>\n",
       "      <th>close</th>\n",
       "    </tr>\n",
       "  </thead>\n",
       "  <tbody>\n",
       "    <tr>\n",
       "      <th>0</th>\n",
       "      <td>2015-12-01</td>\n",
       "      <td>118.126000</td>\n",
       "      <td>118.020633</td>\n",
       "    </tr>\n",
       "    <tr>\n",
       "      <th>1</th>\n",
       "      <td>2015-12-02</td>\n",
       "      <td>117.190625</td>\n",
       "      <td>117.126244</td>\n",
       "    </tr>\n",
       "    <tr>\n",
       "      <th>2</th>\n",
       "      <td>2015-12-03</td>\n",
       "      <td>116.072000</td>\n",
       "      <td>115.999981</td>\n",
       "    </tr>\n",
       "    <tr>\n",
       "      <th>3</th>\n",
       "      <td>2015-12-04</td>\n",
       "      <td>117.310000</td>\n",
       "      <td>117.537031</td>\n",
       "    </tr>\n",
       "    <tr>\n",
       "      <th>4</th>\n",
       "      <td>2015-12-05</td>\n",
       "      <td>119.050000</td>\n",
       "      <td>119.050000</td>\n",
       "    </tr>\n",
       "  </tbody>\n",
       "</table>\n",
       "</div>"
      ],
      "text/plain": [
       "         date        open       close\n",
       "0  2015-12-01  118.126000  118.020633\n",
       "1  2015-12-02  117.190625  117.126244\n",
       "2  2015-12-03  116.072000  115.999981\n",
       "3  2015-12-04  117.310000  117.537031\n",
       "4  2015-12-05  119.050000  119.050000"
      ]
     },
     "execution_count": 33,
     "metadata": {},
     "output_type": "execute_result"
    }
   ],
   "source": [
    "open_close_df.head()"
   ]
  },
  {
   "cell_type": "code",
   "execution_count": 35,
   "metadata": {},
   "outputs": [
    {
     "data": {
      "text/plain": [
       "[<matplotlib.lines.Line2D at 0x7faae3bcdcd0>]"
      ]
     },
     "execution_count": 35,
     "metadata": {},
     "output_type": "execute_result"
    },
    {
     "data": {
      "image/png": "[encoded data removed]",
      "text/plain": [
       "<Figure size 432x288 with 1 Axes>"
      ]
     },
     "metadata": {
      "needs_background": "light"
     },
     "output_type": "display_data"
    }
   ],
   "source": [
    "import matplotlib.pyplot as plt\n",
    "top = plt.subplot2grid((4,4), (0, 0), rowspan=3, colspan=4) \n",
    "top.plot(open_close_df['date'], open_close_df['close'], label = 'Adjusted Close price') "
   ]
  },
  {
   "cell_type": "code",
   "execution_count": 37,
   "metadata": {},
   "outputs": [],
   "source": [
    "open_close_df['NextClose'] = open_close_df['close'].shift(-1)"
   ]
  },
  {
   "cell_type": "code",
   "execution_count": 38,
   "metadata": {},
   "outputs": [
    {
     "data": {
      "text/html": [
       "<div>\n",
       "<style scoped>\n",
       "    .dataframe tbody tr th:only-of-type {\n",
       "        vertical-align: middle;\n",
       "    }\n",
       "\n",
       "    .dataframe tbody tr th {\n",
       "        vertical-align: top;\n",
       "    }\n",
       "\n",
       "    .dataframe thead th {\n",
       "        text-align: right;\n",
       "    }\n",
       "</style>\n",
       "<table border=\"1\" class=\"dataframe\">\n",
       "  <thead>\n",
       "    <tr style=\"text-align: right;\">\n",
       "      <th></th>\n",
       "      <th>date</th>\n",
       "      <th>open</th>\n",
       "      <th>close</th>\n",
       "      <th>NextClose</th>\n",
       "    </tr>\n",
       "  </thead>\n",
       "  <tbody>\n",
       "    <tr>\n",
       "      <th>0</th>\n",
       "      <td>2015-12-01</td>\n",
       "      <td>118.126000</td>\n",
       "      <td>118.020633</td>\n",
       "      <td>117.126244</td>\n",
       "    </tr>\n",
       "    <tr>\n",
       "      <th>1</th>\n",
       "      <td>2015-12-02</td>\n",
       "      <td>117.190625</td>\n",
       "      <td>117.126244</td>\n",
       "      <td>115.999981</td>\n",
       "    </tr>\n",
       "    <tr>\n",
       "      <th>2</th>\n",
       "      <td>2015-12-03</td>\n",
       "      <td>116.072000</td>\n",
       "      <td>115.999981</td>\n",
       "      <td>117.537031</td>\n",
       "    </tr>\n",
       "    <tr>\n",
       "      <th>3</th>\n",
       "      <td>2015-12-04</td>\n",
       "      <td>117.310000</td>\n",
       "      <td>117.537031</td>\n",
       "      <td>119.050000</td>\n",
       "    </tr>\n",
       "    <tr>\n",
       "      <th>4</th>\n",
       "      <td>2015-12-05</td>\n",
       "      <td>119.050000</td>\n",
       "      <td>119.050000</td>\n",
       "      <td>118.674867</td>\n",
       "    </tr>\n",
       "  </tbody>\n",
       "</table>\n",
       "</div>"
      ],
      "text/plain": [
       "         date        open       close   NextClose\n",
       "0  2015-12-01  118.126000  118.020633  117.126244\n",
       "1  2015-12-02  117.190625  117.126244  115.999981\n",
       "2  2015-12-03  116.072000  115.999981  117.537031\n",
       "3  2015-12-04  117.310000  117.537031  119.050000\n",
       "4  2015-12-05  119.050000  119.050000  118.674867"
      ]
     },
     "execution_count": 38,
     "metadata": {},
     "output_type": "execute_result"
    }
   ],
   "source": [
    "open_close_df.head()"
   ]
  },
  {
   "cell_type": "code",
   "execution_count": 39,
   "metadata": {},
   "outputs": [],
   "source": [
    "#labels each row with 0 if closing value decreases and 1 if increases or remains same\n",
    "open_close_df['Label'] = open_close_df.apply(lambda x: 1 if (x['NextClose']>= x['close']) else 0, axis =1)"
   ]
  },
  {
   "cell_type": "code",
   "execution_count": 41,
   "metadata": {},
   "outputs": [
    {
     "data": {
      "text/html": [
       "<div>\n",
       "<style scoped>\n",
       "    .dataframe tbody tr th:only-of-type {\n",
       "        vertical-align: middle;\n",
       "    }\n",
       "\n",
       "    .dataframe tbody tr th {\n",
       "        vertical-align: top;\n",
       "    }\n",
       "\n",
       "    .dataframe thead th {\n",
       "        text-align: right;\n",
       "    }\n",
       "</style>\n",
       "<table border=\"1\" class=\"dataframe\">\n",
       "  <thead>\n",
       "    <tr style=\"text-align: right;\">\n",
       "      <th></th>\n",
       "      <th>date</th>\n",
       "      <th>open</th>\n",
       "      <th>close</th>\n",
       "      <th>NextClose</th>\n",
       "      <th>Label</th>\n",
       "    </tr>\n",
       "  </thead>\n",
       "  <tbody>\n",
       "    <tr>\n",
       "      <th>0</th>\n",
       "      <td>2015-12-01</td>\n",
       "      <td>118.126000</td>\n",
       "      <td>118.020633</td>\n",
       "      <td>117.126244</td>\n",
       "      <td>0</td>\n",
       "    </tr>\n",
       "    <tr>\n",
       "      <th>1</th>\n",
       "      <td>2015-12-02</td>\n",
       "      <td>117.190625</td>\n",
       "      <td>117.126244</td>\n",
       "      <td>115.999981</td>\n",
       "      <td>0</td>\n",
       "    </tr>\n",
       "    <tr>\n",
       "      <th>2</th>\n",
       "      <td>2015-12-03</td>\n",
       "      <td>116.072000</td>\n",
       "      <td>115.999981</td>\n",
       "      <td>117.537031</td>\n",
       "      <td>1</td>\n",
       "    </tr>\n",
       "    <tr>\n",
       "      <th>3</th>\n",
       "      <td>2015-12-04</td>\n",
       "      <td>117.310000</td>\n",
       "      <td>117.537031</td>\n",
       "      <td>119.050000</td>\n",
       "      <td>1</td>\n",
       "    </tr>\n",
       "    <tr>\n",
       "      <th>4</th>\n",
       "      <td>2015-12-05</td>\n",
       "      <td>119.050000</td>\n",
       "      <td>119.050000</td>\n",
       "      <td>118.674867</td>\n",
       "      <td>0</td>\n",
       "    </tr>\n",
       "  </tbody>\n",
       "</table>\n",
       "</div>"
      ],
      "text/plain": [
       "         date        open       close   NextClose  Label\n",
       "0  2015-12-01  118.126000  118.020633  117.126244      0\n",
       "1  2015-12-02  117.190625  117.126244  115.999981      0\n",
       "2  2015-12-03  116.072000  115.999981  117.537031      1\n",
       "3  2015-12-04  117.310000  117.537031  119.050000      1\n",
       "4  2015-12-05  119.050000  119.050000  118.674867      0"
      ]
     },
     "execution_count": 41,
     "metadata": {},
     "output_type": "execute_result"
    }
   ],
   "source": [
    "open_close_df.head()"
   ]
  },
  {
   "cell_type": "code",
   "execution_count": 42,
   "metadata": {},
   "outputs": [],
   "source": [
    "open_close_df.to_pickle(\"processed_data/day_a_stock_closelabel.pkl\")\n",
    "open_close_df.to_pickle(\"processed_data/day_a_stock_closelabel.csv\")"
   ]
  },
  {
   "cell_type": "code",
   "execution_count": null,
   "metadata": {},
   "outputs": [],
   "source": []
  }
 ],
 "metadata": {
  "kernelspec": {
   "display_name": "Python 3",
   "language": "python",
   "name": "python3"
  },
  "language_info": {
   "codemirror_mode": {
    "name": "ipython",
    "version": 3
   },
   "file_extension": ".py",
   "mimetype": "text/x-python",
   "name": "python",
   "nbconvert_exporter": "python",
   "pygments_lexer": "ipython3",
   "version": "3.7.6"
  }
 },
 "nbformat": 4,
 "nbformat_minor": 4
}
